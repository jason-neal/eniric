{
 "cells": [
  {
   "cell_type": "markdown",
   "metadata": {},
   "source": [
    "# Incremental RV and Quality\n",
    "\n",
    "Using incremental functions split up the spectrum an calculate the precision on section. This provides a look at the change in each precision/quality accross the whole wavelength range easily. Inspired by the plots in Bouchy 200 and Artigau 2018.\n",
    "\n",
    "Here we show how to use easily use the **incremental_quality** and **incremental_rv** functions.\n"
   ]
  },
  {
   "cell_type": "code",
   "execution_count": 12,
   "metadata": {},
   "outputs": [],
   "source": [
    "import matplotlib.pyplot as plt\n",
    "from eniric.Qcalculator import incremental_rv, incremental_quality\n",
    "from scripts.phoenix_precision import convolve_and_resample \n",
    "from eniric.snr_normalization import snr_constant_band\n",
    "from eniric.utilities import load_aces_spectrum"
   ]
  },
  {
   "cell_type": "code",
   "execution_count": 2,
   "metadata": {},
   "outputs": [],
   "source": [
    "# Settings\n",
    "band = \"J\"  # analyse this band only (for speed)\n",
    "snr = 100   # SNR per pixel normalization at center of band.\n",
    "R = 100000  # Resolution\n",
    "vsini = 1   # Rotation speed per pixel\n",
    "smpl=3  # Sampling"
   ]
  },
  {
   "cell_type": "code",
   "execution_count": 3,
   "metadata": {},
   "outputs": [],
   "source": [
    "wav1, flux1 = load_aces_spectrum([3900, 4.5, 0.0, 0])\n",
    "wav2, flux2 = load_aces_spectrum([3500, 4.5, 0.0, 0])\n",
    "wav3, flux3 = load_aces_spectrum([2800, 4.5, 0.0, 0])\n",
    "wav4, flux4 = load_aces_spectrum([2600, 4.5, 0.0, 0])\n"
   ]
  },
  {
   "cell_type": "code",
   "execution_count": 4,
   "metadata": {},
   "outputs": [
    {
     "name": "stdout",
     "output_type": "stream",
     "text": [
      "Starting the Rotation convolution for vsini=1.00...\n"
     ]
    },
    {
     "name": "stderr",
     "output_type": "stream",
     "text": [
      "100%|██████████| 80062/80062 [00:03<00:00, 23223.61it/s]\n"
     ]
    },
    {
     "name": "stdout",
     "output_type": "stream",
     "text": [
      "Starting the Resolution convolution...\n"
     ]
    },
    {
     "name": "stderr",
     "output_type": "stream",
     "text": [
      "100%|██████████| 80000/80000 [00:03<00:00, 23045.09it/s]\n"
     ]
    },
    {
     "name": "stdout",
     "output_type": "stream",
     "text": [
      "Starting the Rotation convolution for vsini=1.00...\n"
     ]
    },
    {
     "name": "stderr",
     "output_type": "stream",
     "text": [
      "100%|██████████| 80062/80062 [00:03<00:00, 24167.25it/s]\n"
     ]
    },
    {
     "name": "stdout",
     "output_type": "stream",
     "text": [
      "Starting the Resolution convolution...\n"
     ]
    },
    {
     "name": "stderr",
     "output_type": "stream",
     "text": [
      "100%|██████████| 80000/80000 [00:03<00:00, 25214.88it/s]\n"
     ]
    },
    {
     "name": "stdout",
     "output_type": "stream",
     "text": [
      "Starting the Rotation convolution for vsini=1.00...\n"
     ]
    },
    {
     "name": "stderr",
     "output_type": "stream",
     "text": [
      "100%|██████████| 80062/80062 [00:03<00:00, 24761.29it/s]\n"
     ]
    },
    {
     "name": "stdout",
     "output_type": "stream",
     "text": [
      "Starting the Resolution convolution...\n"
     ]
    },
    {
     "name": "stderr",
     "output_type": "stream",
     "text": [
      "100%|██████████| 80000/80000 [00:03<00:00, 25307.31it/s]\n"
     ]
    },
    {
     "name": "stdout",
     "output_type": "stream",
     "text": [
      "Starting the Rotation convolution for vsini=1.00...\n"
     ]
    },
    {
     "name": "stderr",
     "output_type": "stream",
     "text": [
      "100%|██████████| 80062/80062 [00:03<00:00, 24377.86it/s]\n"
     ]
    },
    {
     "name": "stdout",
     "output_type": "stream",
     "text": [
      "Starting the Resolution convolution...\n"
     ]
    },
    {
     "name": "stderr",
     "output_type": "stream",
     "text": [
      "100%|██████████| 80000/80000 [00:03<00:00, 22257.60it/s]\n"
     ]
    }
   ],
   "source": [
    "# Convolution and resampling\n",
    "wav1, flux1 = convolve_and_resample(wav1, flux1, vsini=vsini, R=R, band=band, sampling=smpl)\n",
    "wav2, flux2 = convolve_and_resample(wav2, flux2, vsini=vsini, R=R, band=band, sampling=smpl)\n",
    "wav3, flux3 = convolve_and_resample(wav3, flux3, vsini=vsini, R=R, band=band, sampling=smpl)\n",
    "wav4, flux4 = convolve_and_resample(wav4, flux4, vsini=vsini, R=R, band=band, sampling=smpl)"
   ]
  },
  {
   "cell_type": "code",
   "execution_count": 5,
   "metadata": {},
   "outputs": [
    {
     "data": {
      "image/png": "[encoded data removed]",
      "text/plain": [
       "<Figure size 432x288 with 1 Axes>"
      ]
     },
     "metadata": {},
     "output_type": "display_data"
    }
   ],
   "source": [
    "# The 4 spectra examples\n",
    "plt.plot(wav1, flux1, label=\"M0\")\n",
    "plt.plot(wav2, flux2, label=\"M3\")\n",
    "plt.plot(wav3, flux3, label=\"M6\")\n",
    "plt.plot(wav4, flux4, label=\"M9\")\n",
    "plt.legend()\n",
    "plt.ylabel(\"Flux\")\n",
    "plt.xlabel(\"Wavelength ($\\mu$m)\")\n",
    "plt.show()\n"
   ]
  },
  {
   "cell_type": "code",
   "execution_count": 6,
   "metadata": {},
   "outputs": [
    {
     "name": "stdout",
     "output_type": "stream",
     "text": [
      "\tSanity Check: The reference S/N at 1.25 was of 161198.26.\n",
      "\tSanity Check: The reference S/N at 1.25 was of 137907.57.\n",
      "\tSanity Check: The reference S/N at 1.25 was of 94333.31.\n",
      "\tSanity Check: The reference S/N at 1.25 was of 82343.39.\n"
     ]
    }
   ],
   "source": [
    "# Only dealing with one band so band=band\n",
    "norm1 = snr_constant_band(wav1, flux1, band=band, snr=snr)\n",
    "norm2 = snr_constant_band(wav2, flux2, band=band, snr=snr)\n",
    "norm3 = snr_constant_band(wav3, flux3, band=band, snr=snr)\n",
    "norm4 = snr_constant_band(wav4, flux4, band=band, snr=snr)\n",
    "\n",
    "flux1 /= norm1\n",
    "flux2 /= norm2\n",
    "flux3 /= norm3\n",
    "flux4 /= norm4"
   ]
  },
  {
   "cell_type": "code",
   "execution_count": 7,
   "metadata": {},
   "outputs": [
    {
     "name": "stdout",
     "output_type": "stream",
     "text": [
      "This should now be 100! if band == J\n",
      "\tSanity Check: The reference S/N at 1.25 was of 100.00.\n"
     ]
    }
   ],
   "source": [
    "print(\"This should now be 100! if band == J\")\n",
    "norm4 = snr_constant_band(wav4, flux4, band=band, snr=snr)\n"
   ]
  },
  {
   "cell_type": "code",
   "execution_count": 8,
   "metadata": {},
   "outputs": [],
   "source": [
    "x1, q1 = incremental_quality(wav1, flux1, percent=1)\n",
    "x2, q2 = incremental_quality(wav2, flux2, percent=1)\n",
    "x3, q3 = incremental_quality(wav3, flux3, percent=1)\n",
    "x4, q4 = incremental_quality(wav4, flux4, percent=1)\n"
   ]
  },
  {
   "cell_type": "code",
   "execution_count": 9,
   "metadata": {},
   "outputs": [
    {
     "data": {
      "image/png": "[encoded data removed]",
      "text/plain": [
       "<Figure size 432x288 with 1 Axes>"
      ]
     },
     "metadata": {},
     "output_type": "display_data"
    }
   ],
   "source": [
    "plt.plot(x1, q1, label=\"M0\", drawstyle=\"steps-mid\")\n",
    "plt.plot(x2, q2, label=\"M3\", drawstyle=\"steps-mid\")\n",
    "plt.plot(x3, q3, label=\"M6\", drawstyle=\"steps-mid\")\n",
    "plt.plot(x4, q4, label=\"M9\", drawstyle=\"steps-mid\")\n",
    "plt.legend()\n",
    "plt.ylabel(\"Spectral Quality\")\n",
    "plt.xlabel(\"Wavelength ($\\mu$m)\")\n",
    "plt.show()\n"
   ]
  },
  {
   "cell_type": "code",
   "execution_count": 10,
   "metadata": {},
   "outputs": [],
   "source": [
    "xrv1, rv1 = incremental_rv(wav1, flux1, mask=None, percent=1)\n",
    "xrv2, rv2 = incremental_rv(wav2, flux2, mask=None, percent=1)\n",
    "xrv3, rv3 = incremental_rv(wav3, flux3, mask=None, percent=1)\n",
    "xrv4, rv4 = incremental_rv(wav4, flux4, mask=None, percent=1)\n"
   ]
  },
  {
   "cell_type": "code",
   "execution_count": 11,
   "metadata": {},
   "outputs": [
    {
     "data": {
      "image/png": "[encoded data removed]",
      "text/plain": [
       "<Figure size 432x288 with 1 Axes>"
      ]
     },
     "metadata": {},
     "output_type": "display_data"
    }
   ],
   "source": [
    "plt.plot(xrv1, rv1, label=\"M0\", drawstyle=\"steps-mid\")\n",
    "plt.plot(xrv2, rv2, label=\"M3\", drawstyle=\"steps-mid\")\n",
    "plt.plot(xrv3, rv3, label=\"M6\", drawstyle=\"steps-mid\")\n",
    "plt.plot(xrv4, rv4, label=\"M9\", drawstyle=\"steps-mid\")\n",
    "plt.legend()\n",
    "plt.ylabel(\"RV precision (m/s)\")\n",
    "plt.xlabel(\"Wavelength ($\\mu$m)\")\n",
    "plt.show()\n"
   ]
  },
  {
   "cell_type": "code",
   "execution_count": null,
   "metadata": {},
   "outputs": [],
   "source": []
  }
 ],
 "metadata": {
  "kernelspec": {
   "display_name": "Python [default]",
   "language": "python",
   "name": "python3"
  },
  "language_info": {
   "codemirror_mode": {
    "name": "ipython",
    "version": 3
   },
   "file_extension": ".py",
   "mimetype": "text/x-python",
   "name": "python",
   "nbconvert_exporter": "python",
   "pygments_lexer": "ipython3",
   "version": "3.6.5"
  }
 },
 "nbformat": 4,
 "nbformat_minor": 2
}
