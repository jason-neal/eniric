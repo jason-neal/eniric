{
 "cells": [
  {
   "cell_type": "markdown",
   "metadata": {},
   "source": [
    "## Testing barycentric shift in eniric\n"
   ]
  },
  {
   "cell_type": "code",
   "execution_count": null,
   "metadata": {},
   "outputs": [],
   "source": [
    "import numpy as np\n",
    "import matplotlib.pyplot as plt\n",
    "\n",
    "# to remove labels in one tick\n",
    "from matplotlib.ticker import MaxNLocator\n",
    "\n",
    "import eniric.IOmodule as IOmodule\n",
    "import eniric.Qcalculator as Qcalculator\n",
    "\n",
    "from eniric.utilities import band_selector\n",
    "\n",
    "from eniric.plotting_functions import plot_atmosphere_model, plot_stellar_spectum\n",
    "from eniric.utilities import wav_selector\n"
   ]
  },
  {
   "cell_type": "code",
   "execution_count": null,
   "metadata": {},
   "outputs": [],
   "source": [
    "def prepare_atmosphere():\n",
    "    \"\"\" Read in atmopheric model and prepare. \"\"\"\n",
    "    wav_atm, flux_atm, std_flux_atm, mask_atm = IOmodule.pdread_4col(atmmodel)\n",
    "    # pandas lready returns numpy arrays\n",
    "    wav_atm = wav_atm / 1000.0  # conversion from nanometers to micrometers\n",
    "    mask_atm = np.array(mask_atm, dtype=bool)\n",
    "    return wav_atm, flux_atm, std_flux_atm, mask_atm\n",
    "\n",
    "\n",
    "def barycenter_shift(wav_atm, mask_atm, offset_RV=0.0):\n",
    "    \"\"\" Calculating impact of Barycentric movement on mask...\n",
    "\n",
    "    Extends the masked region to +-30 km/s due to the barycentic motion of the earth.\n",
    "    \n",
    "    offset_RV: float\n",
    "        Radial veloctiy offset in km/s.\n",
    "    \"\"\"\n",
    "    RV_bary = 3.0e4   # 30 km/s barycentric velocity\n",
    "    offset_RV = offset_RV * 1.0e3     # Trun offset into m/s\n",
    "    pixels_start = np.sum(mask_atm)\n",
    "    pixels_total = len(mask_atm)\n",
    "\n",
    "    mask_atm_30kms = []\n",
    "    for wav_val, mask_val in zip(wav_atm, mask_atm):\n",
    "        if (mask_val is False and offset_RV == 666.0):    # if the mask is false and the offset is equal to zero\n",
    "            mask_atm_30kms.append(mask_val)\n",
    "\n",
    "        else:\n",
    "            delta_lambda = wav_val * RV_bary / Qcalculator.c.value    # doppler shift amount   delta_lambda = lambda*v/c\n",
    "            \n",
    "            starting_lambda = wav_val * offset_RV / Qcalculator.c.value   # offset value\n",
    "            \n",
    "            indexes_30kmslice = np.searchsorted(wav_atm, [starting_lambda+wav_val-delta_lambda, starting_lambda+wav_val+delta_lambda])\n",
    "            \n",
    "            # Replaces any values outside len(wav_atm) with end index value\n",
    "            indexes_30kmslice = [index if(index < len(wav_atm)) else len(wav_atm)-1 for index in indexes_30kmslice]\n",
    "            mask_atm_30kmslice = np.array(mask_atm[indexes_30kmslice[0]:indexes_30kmslice[1]], dtype=bool)    # selecting only the slice in question\n",
    "\n",
    "            # if(False in mask_atm_30kmslice):\n",
    "            #    mask_atm_30kms.append(False)\n",
    "            # else:\n",
    "            #    mask_atm_30kms.append(True)\n",
    "\n",
    "            mask_atm_30kmslice_reversed = [not i for i in mask_atm_30kmslice]    # comp list of array is bad\n",
    "            print(\"mask_atm_30kmslice_reversed\", mask_atm_30kmslice_reversed)\n",
    "            \n",
    "            clump = np.array_split(mask_atm_30kmslice, np.where(np.diff(mask_atm_30kmslice_reversed))[0]+1)[::2]\n",
    "            print(\"clump\", clump)\n",
    "            tester = True\n",
    "            for block in clump:\n",
    "                if len(clump) >= 3:\n",
    "                    tester = False\n",
    "                    break\n",
    "\n",
    "            mask_atm_30kms.append(tester)\n",
    "\n",
    "    mask_atm = np.array(mask_atm_30kms, dtype=bool)\n",
    "    pixels_end = np.sum(mask_atm)\n",
    "    print((\"Barycentric impact masks out {:04.1}\\% more of the atmospheric\"\n",
    "          \" spectrum\").format((pixels_end-pixels_start)/pixels_total))\n",
    "    return mask_atm\n",
    "\n"
   ]
  },
  {
   "cell_type": "code",
   "execution_count": null,
   "metadata": {},
   "outputs": [],
   "source": [
    "def inner_function():\n",
    "    pass\n",
    "\n",
    "def new_inner_function():\n",
    "    pass\n"
   ]
  },
  {
   "cell_type": "code",
   "execution_count": null,
   "metadata": {},
   "outputs": [],
   "source": [
    "atmmodel = \"../data/atmmodel/Average_TAPAS_2014_K.txt\"\n",
    "# w_min = 2.0\n",
    "# w_max = 2.1\n",
    "\n",
    "wav_atm_org, flux_atm_org, std_flux_atm_org, mask_atm_org = prepare_atmosphere()\n",
    "\n",
    "# wav_atm, flux_atm = wav_selector(wav_atm_org, flux_atm_org, w_min, w_max)\n",
    "# __, std_flux_atm = wav_selector(wav_atm_org, std_flux_atm_org, w_min, w_max)\n",
    "# __, mask_atm = wav_selector(wav_atm_org, mask_atm_org, w_min, w_max)"
   ]
  },
  {
   "cell_type": "code",
   "execution_count": null,
   "metadata": {},
   "outputs": [],
   "source": [
    "print(wav_atm_org)\n",
    "print(mask_atm_org)\n",
    "print(sum(mask_atm_org))"
   ]
  },
  {
   "cell_type": "code",
   "execution_count": null,
   "metadata": {},
   "outputs": [],
   "source": [
    "new_mask_atm = barycenter_shift(wav_atm_org, mask_atm_org, offset_RV=0.0)\n"
   ]
  },
  {
   "cell_type": "code",
   "execution_count": null,
   "metadata": {},
   "outputs": [],
   "source": [
    "pixels_start = np.sum(mask_atm)\n",
    "pixels_total = len(mask_atm)\n",
    "print(pixels_start, pixels_total)\n",
    "\n",
    "offset_RV=0\n",
    "\n",
    "mask_atm_30kms = []\n",
    "for wav_val, mask_val in zip(wav_atm, mask_atm):\n",
    "        if (mask_val is False and offset_RV == 666.0):    # if the mask is false and the offset is equal to zero\n",
    "            mask_atm_30kms.append(mask_val)\n",
    "\n",
    "        else:\n",
    "            delta_lambda = wav_val * 3.0e4 / Qcalculator.c.value\n",
    "            print(\"delta_lambda\", delta_lambda)\n",
    "            \n",
    "            starting_lambda = wav_val * offset_RV * 1.0e3 / Qcalculator.c.value\n",
    "            print(\"starting_lambda\", starting_lambda)\n",
    "            \n",
    "            indexes_30kmslice = np.searchsorted(wav_atm, [starting_lambda+wav_val-delta_lambda, starting_lambda+wav_val+delta_lambda])\n",
    "            \n",
    "            indexes_30kmslice = [index if(index < len(wav_atm)) else len(wav_atm)-1 for index in indexes_30kmslice]\n",
    "            \n",
    "            mask_atm_30kmslice = np.array(mask_atm[indexes_30kmslice[0]:indexes_30kmslice[1]], dtype=bool)    # selecting only the slice in question\n",
    "\n",
    "            # if(False in mask_atm_30kmslice):\n",
    "            #    mask_atm_30kms.append(False)\n",
    "            # else:\n",
    "            #    mask_atm_30kms.append(True)\n",
    "\n",
    "            mask_atm_30kmslice_reversed = [not i for i in mask_atm_30kmslice]\n",
    "\n",
    "            clump = np.array_split(mask_atm_30kmslice, np.where(np.diff(mask_atm_30kmslice_reversed))[0]+1)[::2]\n",
    "\n",
    "            tester = True\n",
    "            for block in clump:\n",
    "                if len(clump) >= 3:\n",
    "                    tester = False\n",
    "                    break\n",
    "\n",
    "            mask_atm_30kms.append(tester)\n",
    "\n",
    "mask_atm = np.array(mask_atm_30kms, dtype=bool)\n",
    "pixels_end = np.sum(mask_atm)\n",
    "print((\"Barycentric impact masks out {:04.1}\\% more of the atmospheric\"\n",
    "          \" spectrum\").format((pixels_end-pixels_start)/pixels_total))\n",
    "\n"
   ]
  },
  {
   "cell_type": "code",
   "execution_count": null,
   "metadata": {
    "collapsed": true
   },
   "outputs": [],
   "source": []
  }
 ],
 "metadata": {
  "anaconda-cloud": {},
  "kernelspec": {
   "display_name": "eniric",
   "language": "python",
   "name": "eniric"
  },
  "language_info": {
   "codemirror_mode": {
    "name": "ipython",
    "version": 3
   },
   "file_extension": ".py",
   "mimetype": "text/x-python",
   "name": "python",
   "nbconvert_exporter": "python",
   "pygments_lexer": "ipython3",
   "version": "3.6.5"
  }
 },
 "nbformat": 4,
 "nbformat_minor": 2
}
