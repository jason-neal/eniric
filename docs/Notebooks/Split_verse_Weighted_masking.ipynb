{
 "cells": [
  {
   "cell_type": "markdown",
   "metadata": {},
   "source": [
    "# Test masking with clumping verse straight masking\n",
    "#### With both Old and new gradient\n",
    "    \n",
    "In this notebook we assess the change in handling the weighted mask for Condition #2 of Figueria et al 2016.\n",
    "\n",
    "For that paper the spectrum is broken into several small spectra on regions masked telluric lines (>2%).\n",
    "\n",
    "The updated version just applies a boolen mask after pixel weights are calculated."
   ]
  },
  {
   "cell_type": "code",
   "execution_count": null,
   "metadata": {},
   "outputs": [],
   "source": [
    "import numpy as np\n",
    "import matplotlib.pyplot as plt\n",
    "\n",
    "from eniric.atmosphere import Atmosphere\n",
    "from eniric.legacy import mask_clumping, RVprec_calc_masked\n",
    "from eniric_scripts.aces_precision import convolve_and_resample\n",
    "from eniric.snr_normalization import normalize_flux\n",
    "from eniric import Qcalculator as Q\n",
    "from eniric.utilities import band_limits, load_aces_spectrum, wav_selector\n"
   ]
  },
  {
   "cell_type": "code",
   "execution_count": null,
   "metadata": {},
   "outputs": [],
   "source": [
    "wav_, flux_ = load_aces_spectrum([3900, 4.5, 0,0])\n",
    "# Small section in K bands to experiment with \n",
    "wav, flux  =  wav_selector(wav_, flux_, 2.1025, 2.1036)\n"
   ]
  },
  {
   "cell_type": "code",
   "execution_count": null,
   "metadata": {},
   "outputs": [],
   "source": [
    "# Telluric mask\n",
    "atm_ = Atmosphere.from_band(\"K\", bary=True)\n",
    "\n",
    "atm = atm_.at(wav)\n",
    "mask = atm.mask\n"
   ]
  },
  {
   "cell_type": "markdown",
   "metadata": {},
   "source": [
    "# Visuallize the Pixel Weights:"
   ]
  },
  {
   "cell_type": "code",
   "execution_count": null,
   "metadata": {},
   "outputs": [],
   "source": [
    "# Clumping method\n",
    "wclump, fclump = mask_clumping(wav, flux, mask)\n",
    "print(\"# Number of clumps = \", len(wclump))\n",
    "# print(wclump, fclump)\n",
    "\n",
    "print(len(wclump))"
   ]
  },
  {
   "cell_type": "code",
   "execution_count": null,
   "metadata": {},
   "outputs": [],
   "source": [
    "wis_0 = Q.pixel_weights(wav, flux, grad=False) \n",
    "wis_1 = Q.pixel_weights(wav, flux, grad=True) \n",
    "wis_0 *= mask[:-1]\n",
    "wis_1 *= mask\n",
    "\n",
    "wis_0[wis_0 == 0] = np.nan\n",
    "wis_1[wis_1 == 0] = np.nan"
   ]
  },
  {
   "cell_type": "code",
   "execution_count": null,
   "metadata": {},
   "outputs": [],
   "source": [
    "plt_setting = {\"figsize\":(15,6)}\n",
    "plt.figure(**plt_setting)\n",
    "plt.plot(wav,flux/np.max(flux), label=\"Star\")\n",
    "plt.plot(atm.wl, atm.transmission, label=\"Telluric\")\n",
    "plt.plot(atm.wl, atm.mask, \"--\", label=\"Mask\")\n",
    "plt.axhline(0.98)\n",
    "\n",
    "plt.legend()"
   ]
  },
  {
   "cell_type": "code",
   "execution_count": null,
   "metadata": {},
   "outputs": [],
   "source": [
    "plt.figure(**plt_setting)\n",
    "\n",
    "plt.plot(wav[:-1], wis_0, \"bs-\",label= \"Mask Grad False\")\n",
    "plt.plot(wav, wis_1, \"ko--\",label= \"Mask Grad true\")\n",
    "\n",
    "w, f = (wclump[0],fclump[0])\n",
    "wis1 = Q.pixel_weights(w,f,grad=True)\n",
    "wis0 = Q.pixel_weights(w,f, grad=False)\n",
    "\n",
    "plt.plot(w[:-1], wis0*1.05, \"g+:\", label=\"Clump, Grad False\") \n",
    "plt.plot(w, wis1*1.05, \"r.-.\", label=\"Clump, Grad True\")\n",
    "plt.legend()\n",
    "plt.xlim(wclump[0][0]*0.99999, wclump[0][-1]*1.00001)\n",
    "plt.show()\n",
    "    "
   ]
  },
  {
   "cell_type": "code",
   "execution_count": null,
   "metadata": {},
   "outputs": [],
   "source": [
    "plt.figure(**plt_setting)\n",
    "\n",
    "plt.plot(wav[:-1], wis_0, \"bs-\",label= \"grad False\")\n",
    "plt.plot(wav, wis_1, \"ko--\",label= \"grad true\")\n",
    "w, f = (wclump[1],fclump[1])\n",
    "wis1 = Q.pixel_weights(w,f, grad=True)\n",
    "wis0 = Q.pixel_weights(w,f, grad=False)\n",
    "\n",
    "plt.plot(w[:-1], wis0*1.05, \"g+:\", label=\"Clump grad False\") \n",
    "plt.plot(w, wis1*1.05, \"r.-.\", label=\"Clump grad True\")\n",
    "plt.legend()\n",
    "plt.xlim(wclump[-1][0]*0.999999, wclump[-1][-1]*1.00001)\n",
    "\n",
    "plt.show()"
   ]
  },
  {
   "cell_type": "markdown",
   "metadata": {},
   "source": [
    "Ffrom these two examples the calculations with the same gradients produces the same pixel weights The clumped version produces less weight though.\n",
    "\n",
    "The masked version produces slightly different value for the last pixel due to how it is calculated. \n",
    "With the new graident all pixels are kept except in the clumped version the last pixel s the end and not in the middle so is not calculated with central difference but finite backward difference. "
   ]
  },
  {
   "cell_type": "markdown",
   "metadata": {},
   "source": [
    "# Calculations of RV"
   ]
  },
  {
   "cell_type": "code",
   "execution_count": null,
   "metadata": {},
   "outputs": [],
   "source": [
    "print(RVprec_calc_masked(wav, flux, atm.mask, grad=True))\n",
    "print(Q.RVprec_calc(wav, flux, atm.mask, grad=True))\n",
    "print(RVprec_calc_masked(wav, flux, atm.mask, grad=False))\n",
    "print(Q.RVprec_calc(wav, flux, atm.mask, grad=False))"
   ]
  },
  {
   "cell_type": "markdown",
   "metadata": {},
   "source": [
    "Differences between versions with same gradient is at the 4th sf. These are not the correct scale, this will be addressed in the next section."
   ]
  },
  {
   "cell_type": "markdown",
   "metadata": {},
   "source": [
    "# Calculating difference ratios."
   ]
  },
  {
   "cell_type": "markdown",
   "metadata": {},
   "source": [
    "Assessing the changes to actual Figueira et al. values by not splitting on telluric lines first then applying mask to the weigths, or slitting then calculating weigths.\n",
    "\n",
    "Convolving the spectra to vsini=1 an R=100k of a M0 spectra in the Z,Y,J,H,K bands to be consistent with paper. \n",
    "Using Old gradient and new gradient methods to access difference.\n",
    "The old gradient drops the last pixel, which drops many pixels when spectra is split between telluric lines."
   ]
  },
  {
   "cell_type": "code",
   "execution_count": null,
   "metadata": {},
   "outputs": [],
   "source": [
    " # Explore relative difference of different bands\n",
    "wav_, flux_ = load_aces_spectrum([3900, 4.5, 0,0])\n",
    "wav, flux = wav_selector(wav_, flux_, 0.7, 2.5)\n",
    "\n",
    "table = []\n",
    "table.append(\"Band, Cond#1, Split,   Masked,  ratio,   Cond#1,   Split,  Masked, ratio\")\n",
    "table.append(\"Grad,              False             ,                True              \")\n",
    "\n",
    "for band in [\"Z\", \"Y\", \"J\", \"H\", \"K\"]:\n",
    "    atm = Atmosphere.from_band(band, bary=True)\n",
    "    \n",
    "    w, f = convolve_and_resample(wav, flux, vsini=1, R=100000, band=band, sampling=3)\n",
    "    f = normalize_flux(f, id_string=\"M0-{}-1.0-100k\".format(band), snr=100,ref_band=\"J\")\n",
    "    atm = atm.at(w)\n",
    "    \n",
    "    a = RVprec_calc_masked(w, f, atm.mask, grad=True)\n",
    "    b = RVprec_calc_masked(w, f, atm.mask, grad=False)\n",
    "    c = Q.RVprec_calc(w, f, atm.mask, grad=True)\n",
    "    d = Q.RVprec_calc(w, f, atm.mask, grad=False)\n",
    "    e = Q.RVprec_calc(w, f,  grad=True)\n",
    "    f = Q.RVprec_calc(w, f,  grad=False)\n",
    "    \n",
    "    false_ratio = (d-b)/b\n",
    "    true_ratio = (c-a)/a\n",
    "    table.append(\"{0:5}, {1:4.02f}, {2:6.02f}, {3:6.02f}, {4:5.04f}, {5:6.02f}, {6:6.02f}, {7:6.02f}, {8:5.04f}\".format(\n",
    "        band, f.value, b.value, d.value, false_ratio, e.value, a.value, c.value, true_ratio))\n"
   ]
  },
  {
   "cell_type": "code",
   "execution_count": null,
   "metadata": {},
   "outputs": [],
   "source": [
    "for line in table:\n",
    "    print(line)"
   ]
  },
  {
   "cell_type": "markdown",
   "metadata": {},
   "source": [
    "This table shows that the methods produce very similar results. With new gradient it is 0.01 % difference.\n"
   ]
  },
  {
   "cell_type": "markdown",
   "metadata": {},
   "source": [
    "This confirms that the new weighted mask is suitable."
   ]
  }
 ],
 "metadata": {
  "kernelspec": {
   "display_name": "Python 3",
   "language": "python",
   "name": "python3"
  },
  "language_info": {
   "codemirror_mode": {
    "name": "ipython",
    "version": 3
   },
   "file_extension": ".py",
   "mimetype": "text/x-python",
   "name": "python",
   "nbconvert_exporter": "python",
   "pygments_lexer": "ipython3",
   "version": "3.6.6"
  }
 },
 "nbformat": 4,
 "nbformat_minor": 2
}
