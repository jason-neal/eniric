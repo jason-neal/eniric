{
 "cells": [
  {
   "cell_type": "markdown",
   "metadata": {},
   "source": [
    "# Table of Contents\n",
    "* [Reproduction of paper results](#Reproduction-of-paper-results)\n",
    "* [Optiacal and NIR of M-dwarfs](#Optiacal-and-NIR-of-M-dwarfs)\n",
    "\t* [Figure 4](#Figure-4)\n",
    "* [Bouchy 2001](#Bouchy-2001)\n"
   ]
  },
  {
   "cell_type": "markdown",
   "metadata": {},
   "source": [
    "# Reproduction of paper results"
   ]
  },
  {
   "cell_type": "markdown",
   "metadata": {},
   "source": [
    "These are exploratory, they do not include everything that was included in the paper.\n",
    "E.g. convolution by a circular fiber.\n",
    "\n",
    "To get more familiar with the results and the results from our code."
   ]
  },
  {
   "cell_type": "markdown",
   "metadata": {},
   "source": [
    "# Optiacal and NIR of M-dwarfs "
   ]
  },
  {
   "cell_type": "markdown",
   "metadata": {},
   "source": [
    "[Artigau et. al. 2018](#cite-artigau_optical_2018) \n",
    "\n",
    "https://arxiv.org/pdf/1803.07646.pdf\n",
    "Try and reproduce the Q plots for Barnard's star (Figure 2)\n",
    "\n",
    "Using Phoenix Aces model with parameters\n",
    "- Teff = 3200\n",
    "- FeH = -0.5\n",
    "- logg = 5\n",
    "- vsini < 80 m/s\n",
    "\n",
    "I do not include/use the vsini here though\n",
    "\n",
    "I also do not mask out/shade the regions of high telluric absorption."
   ]
  },
  {
   "cell_type": "code",
   "execution_count": null,
   "metadata": {},
   "outputs": [],
   "source": [
    "import os\n",
    "import matplotlib.pyplot as plt\n",
    "import numpy as np\n",
    "from eniric.Qcalculator import quality\n",
    "\n",
    "from astropy.io import fits\n"
   ]
  },
  {
   "cell_type": "code",
   "execution_count": null,
   "metadata": {},
   "outputs": [],
   "source": [
    "Phoniex_path = os.path.join(\"/home\", \"jneal\", \"Phd\", \"data\", \"PHOENIX-ALL\",\"PHOENIX\")\n",
    "wav = fits.getdata(os.path.join(Phoniex_path, \"WAVE_PHOENIX-ACES-AGSS-COND-2011.fits\"))\n",
    "\n",
    "# Barnards star\n",
    "data = fits.getdata(os.path.join(Phoniex_path, \"Z-0.5\", \"lte03200-5.00-0.5.PHOENIX-ACES-AGSS-COND-2011-HiRes.fits\"))\n"
   ]
  },
  {
   "cell_type": "code",
   "execution_count": null,
   "metadata": {},
   "outputs": [],
   "source": [
    "wav = wav/10000  # micrometers\n",
    "mask = (wav >= 0.4) & (wav <= 5)\n",
    "wav2 = wav[mask]\n",
    "data2 = data[mask]"
   ]
  },
  {
   "cell_type": "code",
   "execution_count": null,
   "metadata": {},
   "outputs": [],
   "source": [
    "# Showning selected spectrum region out to 2.5 micron\n",
    "plt.plot(wav, data)\n",
    "plt.plot(wav2, data2)\n",
    "plt.show()"
   ]
  },
  {
   "cell_type": "code",
   "execution_count": null,
   "metadata": {},
   "outputs": [],
   "source": [
    "def log_chunks(wavelength, percent):\n",
    "    \"\"\"Define bounds at which $(Delta \\lambda)/\\lambda = X\\%$\"\"\"\n",
    "    base = 1 + percent/100\n",
    "    n = np.log(wavelength[-1]/wavelength[0]) / np.log(base)\n",
    "    powers = np.arange(np.ceil(n))\n",
    "    \n",
    "    return wavelength[0] * base ** powers\n"
   ]
  },
  {
   "cell_type": "code",
   "execution_count": null,
   "metadata": {},
   "outputs": [],
   "source": [
    "# Slices of given Delta lambda/lambda\n",
    "\n",
    "# Break into small chunks \n",
    "chunks = np.arange(wav2[0], wav2[-1], 0.01)  # 10 nm chunks\n",
    "chunks = log_chunks(wav2, 0.2)\n",
    "print( \"len chunks\", len(chunks))\n",
    "print(\"diff chunks/wav\",  (np.diff(chunks)/chunks[:-1])[:5])\n",
    "# Artigau turn it into 0.2% chunks in which  $(\\Delta \\lambda) / lambda$ = 0.2% \n",
    "\n",
    "qual = []\n",
    "center = []\n",
    "\n",
    "for ii in range(len(chunks)-1):\n",
    "    xmin = chunks[ii]\n",
    "    xmax = chunks[ii+1]\n",
    "\n",
    "    this_center = (xmax + xmin)/2\n",
    "    center.append(this_center)\n",
    "    m = (wav2 <= xmax) & (wav2 >= xmin)\n",
    "\n",
    "    qual.append(quality(wav2[m], data2[m]))\n",
    "    # print(\"ii\", ii, \"quality =\", qual[-1])    \n",
    "# plt.plot(center, qual, \"*\", label=l, color=cl)\n",
    "# plt.step(center, qual, where=\"mid\", label=\"model\", color=\"C1\")\n",
    "plt.loglog(center, qual, \"o\", label=\"model\", color=\"C1\")\n",
    "\n",
    "\n",
    "plt.legend()\n",
    "plt.axvline(2.5)\n",
    "plt.xlabel(\"Wavelength ($\\mu$m)\")\n",
    "plt.ylabel(r\"Q$_{0.2\\%}$\")\n",
    "plt.title(\"Artigau et.  al. 2018, Fig. 2 (loglog)\")\n",
    "plt.show()\n",
    "\n",
    "\n",
    "qual = []\n",
    "center = []\n",
    "\n",
    "for ii in range(len(chunks)-1):\n",
    "    xmin = chunks[ii]\n",
    "    xmax = chunks[ii+1]\n",
    "\n",
    "    this_center = (xmax + xmin)/2\n",
    "    center.append(this_center)\n",
    "    m = (wav2 <= xmax) & (wav2 >= xmin)\n",
    "\n",
    "    qual.append(quality(wav2[m], data2[m]))\n",
    "    # print(\"ii\", ii, \"quality =\", qual[-1])    \n",
    "# plt.plot(center, qual, \"*\", label=l, color=cl)\n",
    "# plt.step(center, qual, where=\"mid\", label=\"model\", color=\"C1\")\n",
    "plt.semilogy(center, qual, \"o\", label=\"model\", color=\"C1\")\n",
    "\n",
    "\n",
    "plt.legend()\n",
    "plt.axvline(2.5)\n",
    "plt.xlabel(\"Wavelength ($\\mu$m)\")\n",
    "plt.ylabel(r\"Q$_{0.2\\%}$\")\n",
    "plt.title(\"Artigau et.  al. 2018, Fig. 2 (semilogy)\")\n",
    "plt.show()"
   ]
  },
  {
   "cell_type": "markdown",
   "metadata": {},
   "source": [
    "This does not account for the convolution by a 1D profile corresponding to a circular fiber as done in the paper.\n",
    "Blue vertical line is where they stop in the paper."
   ]
  },
  {
   "cell_type": "markdown",
   "metadata": {},
   "source": [
    "## Figure 4"
   ]
  },
  {
   "cell_type": "markdown",
   "metadata": {},
   "source": [
    "Density of RV across different models, \n",
    "- logg = 4.5, z=0 (Young)\n",
    "- logg = 5, z = 0 (Field)\n",
    "- logg = 5, z =-0.5 (barnards)\n",
    "\n",
    "5% steps between 0.5-2.25 micron"
   ]
  },
  {
   "cell_type": "code",
   "execution_count": null,
   "metadata": {},
   "outputs": [],
   "source": [
    "Phoenix_path = os.path.join(\"/home\", \"jneal\", \"Phd\", \"data\", \"PHOENIX-ALL\",\"PHOENIX\")\n",
    "wav = fits.getdata(os.path.join(Phoenix_path, \"WAVE_PHOENIX-ACES-AGSS-COND-2011.fits\"))\n",
    "wav = wav/10000  # micrometers\n",
    "# Barnards star\n",
    "barnard = fits.getdata(os.path.join(Phoenix_path, \"Z-0.5\", \"lte03200-5.00-0.5.PHOENIX-ACES-AGSS-COND-2011-HiRes.fits\"))\n",
    "# Field\n",
    "field = fits.getdata(os.path.join(Phoenix_path, \"Z-0.0\", \"lte03200-5.00-0.0.PHOENIX-ACES-AGSS-COND-2011-HiRes.fits\"))\n",
    "# Young\n",
    "young = fits.getdata(os.path.join(Phoenix_path, \"Z-0.0\", \"lte03200-4.50-0.0.PHOENIX-ACES-AGSS-COND-2011-HiRes.fits\"))\n"
   ]
  },
  {
   "cell_type": "code",
   "execution_count": null,
   "metadata": {},
   "outputs": [],
   "source": [
    "# Showning selected spectrum region out to 2.5 micron\n",
    "\n",
    "plt.plot(wav, young, label=\"Young\")\n",
    "plt.plot(wav, field, label=\"Field\")\n",
    "plt.plot(wav, barnard, label=\"Barnard\")\n",
    "plt.legend()\n",
    "plt.xlabel(r\"Wavelegnth $\\mu$m\")\n",
    "plt.show()"
   ]
  },
  {
   "cell_type": "code",
   "execution_count": null,
   "metadata": {},
   "outputs": [],
   "source": [
    "mask = (wav >= 0.47) & (wav <= 2.6)\n",
    "wav = wav[mask]\n",
    "barnard = barnard[mask]\n",
    "young = young[mask]\n",
    "field = field[mask]\n",
    "\n"
   ]
  },
  {
   "cell_type": "code",
   "execution_count": null,
   "metadata": {},
   "outputs": [],
   "source": [
    "plt.plot(wav, young, label=\"Young\")\n",
    "plt.plot(wav, field, label=\"Field\")\n",
    "plt.plot(wav, barnard, label=\"Barnard\")\n",
    "plt.legend()\n",
    "plt.xlabel(r\"Wavelegnth $\\mu$m\")\n",
    "plt.show()"
   ]
  },
  {
   "cell_type": "code",
   "execution_count": null,
   "metadata": {},
   "outputs": [],
   "source": [
    "# Slices of given Delta lambda/lambda\n",
    "\n",
    "# Break into small chunks \n",
    "chunks = log_chunks(wav, 5)  # 5%\n",
    "print( \"len chunks\", len(chunks))\n",
    "print(\"diff chunks/wav\",  (np.diff(chunks)/chunks[:-1])[:5])\n",
    "# Artigau turn it into 0.2% chunks in which  $(\\Delta \\lambda) / lambda$ = 0.2% \n",
    "\n",
    "\n",
    "\n",
    "center_store = {}\n",
    "qual_store = {}\n",
    "for target, label in zip([barnard, field, young], [\"Barnard\", \"Field\", \"Young\"]):\n",
    "    \n",
    "    qual = []\n",
    "    center = []\n",
    "\n",
    "    for ii in range(len(chunks)-1):\n",
    "        xmin = chunks[ii]\n",
    "        xmax = chunks[ii+1]\n",
    "\n",
    "        this_center = (xmax + xmin)/2\n",
    "        center.append(this_center)\n",
    "        m = (wav <= xmax) & (wav >= xmin)\n",
    "\n",
    "        qual.append(quality(wav[m], target[m]))\n",
    "        # print(\"ii\", ii, \"quality =\", qual[-1])    \n",
    "    # plt.plot(center, qual, \"*\", label=l, color=cl)\n",
    "    # plt.step(center, qual, where=\"mid\", label=\"model\", color=\"C1\")\n",
    "    qual_store[label] = np.asarray(qual)\n",
    "    center_store[label] = np.asarray(center)\n",
    "    #plt.semilogy(center, qual, label=label)\n",
    "\n",
    "plt.figure()\n",
    "ax1 = plt.subplot(211)\n",
    "for label in [\"Barnard\", \"Field\", \"Young\"]:\n",
    "    plt.semilogy(center_store[label], qual_store[label], label=label)\n",
    "    plt.legend()\n",
    "#plt.axvline(2.5)\n",
    "\n",
    "    plt.ylabel(r\"Q$_{5\\%}$\")\n",
    "    \n",
    "ax2 = plt.subplot(212, sharex=ax1)\n",
    "for label in [\"Barnard\", \"Young\"]:\n",
    "    plt.plot(center_store[label], qual_store[label]/qual_store[\"Field\"], label=\"{0}/Field\".format(label))\n",
    "plt.xlabel(\"Wavelength ($\\mu$m)\")\n",
    "plt.suptitle(\"Artigau et.  al. 2018, Fig. 4\")\n",
    "plt.legend()\n",
    "plt.show()\n"
   ]
  },
  {
   "cell_type": "markdown",
   "metadata": {},
   "source": [
    "This shows a similar shape to Artigau 2018, but not quite the same."
   ]
  },
  {
   "cell_type": "markdown",
   "metadata": {},
   "source": [
    "# Fundamental photon noise limit"
   ]
  },
  {
   "cell_type": "markdown",
   "metadata": {},
   "source": [
    "[Bouchy 2001 ](#cite-bouchy_fundamental_2001)\n",
    "\n",
    "Figure 1 - quality verse optical spectral range 3800-6800 nm\n",
    "They explore the spectral quality between 4000-7000K  (Table 1)\n",
    "- K5V - 4500K-4.5\n",
    "- F9V - 6000K-4.5\n",
    "- F2V - 7000K-4.5"
   ]
  },
  {
   "cell_type": "code",
   "execution_count": null,
   "metadata": {},
   "outputs": [],
   "source": [
    "wav = fits.getdata(os.path.join(Phoniex_path, \"WAVE_PHOENIX-ACES-AGSS-COND-2011.fits\"))\n",
    "\n",
    "# Bouchy et. al. 2001\n",
    "K5V = fits.getdata(os.path.join(Phoniex_path, \"Z-0.0\", \"lte04500-4.50-0.0.PHOENIX-ACES-AGSS-COND-2011-HiRes.fits\"))\n",
    "F9V = fits.getdata(os.path.join(Phoniex_path, \"Z-0.0\", \"lte06000-4.50-0.0.PHOENIX-ACES-AGSS-COND-2011-HiRes.fits\"))\n",
    "F2V = fits.getdata(os.path.join(Phoniex_path, \"Z-0.0\", \"lte07000-4.50-0.0.PHOENIX-ACES-AGSS-COND-2011-HiRes.fits\"))\n"
   ]
  },
  {
   "cell_type": "code",
   "execution_count": null,
   "metadata": {},
   "outputs": [],
   "source": [
    "plt.plot(wav, K5V, label=\"K5V\")\n",
    "plt.plot(wav, F9V, label=\"F9V\")\n",
    "plt.plot(wav, F2V, label=\"F2V\")\n",
    "plt.legend()\n",
    "\n",
    "plt.ylabel(\"Spectral energy\")\n",
    "plt.xlabel(\"Wavelength (nm)\")\n",
    "plt.title(\"Full SED\")\n",
    "plt.show()"
   ]
  },
  {
   "cell_type": "code",
   "execution_count": null,
   "metadata": {},
   "outputs": [],
   "source": [
    "mask = (wav >= 3800) & (wav <= 7000)\n",
    "wav = wav[mask]\n",
    "K5V = K5V[mask]\n",
    "F9V = F9V[mask]\n",
    "F2V = F2V[mask]"
   ]
  },
  {
   "cell_type": "code",
   "execution_count": null,
   "metadata": {},
   "outputs": [],
   "source": [
    "plt.plot(wav, K5V, label=\"K5V\")\n",
    "plt.plot(wav, F9V, label=\"F9V\")\n",
    "plt.plot(wav, F2V, label=\"F2V\")\n",
    "plt.legend()\n",
    "\n",
    "plt.ylabel(\"SED (nm)\")\n",
    "plt.xlabel(\"Wavelength (nm)\")\n",
    "plt.show()"
   ]
  },
  {
   "cell_type": "code",
   "execution_count": null,
   "metadata": {},
   "outputs": [],
   "source": [
    "# Is quality the same with SED and counts spectra?\n",
    "q1 = quality(wav, K5V)\n",
    "q2 = quality(wav, K5V*wav)\n",
    "print(\"K5V\", q1, q2)\n",
    "q1 = quality(wav, F9V)\n",
    "q2 = quality(wav, F9V*wav)\n",
    "print(\"F9V\", q1, q2)\n",
    "q1 = quality(wav, F2V)\n",
    "q2 = quality(wav, F2V*wav)\n",
    "print(\"F2V\", q1, q2)"
   ]
  },
  {
   "cell_type": "code",
   "execution_count": null,
   "metadata": {},
   "outputs": [],
   "source": [
    "# Is quality the same when scaled?\n",
    "K5V = K5V * wav\n",
    "F9V = F9V * wav\n",
    "F2V = F2V * wav\n",
    "q1 = quality(wav, K5V)\n",
    "q2 = quality(wav, K5V*2)\n",
    "print(\"K5V\", q1, q2)\n",
    "q1 = quality(wav, F9V)\n",
    "q2 = quality(wav, F9V*3)\n",
    "print(\"F9V\", q1, q2)\n",
    "q1 = quality(wav, F2V)\n",
    "q2 = quality(wav, F2V*4)\n",
    "print(\"F2V\", q1, q2)"
   ]
  },
  {
   "cell_type": "markdown",
   "metadata": {},
   "source": [
    "Yes it is independent of the flux level.\n",
    "\n",
    "When I was multiplying by wave above it changed the spectral shape, hence a change in quality."
   ]
  },
  {
   "cell_type": "code",
   "execution_count": null,
   "metadata": {},
   "outputs": [],
   "source": [
    "# slices of 100A\n",
    "\n",
    "# Break into small chunks \n",
    "chunks = np.arange(wav[0], wav[-1], 100)  # 10 nm chunks\n",
    "\n",
    "fluxes = [K5V, F9V, F2V]\n",
    "labels=[\"K5V\", \"F9V\", \"F2V\"]\n",
    "colors = [\"C1\", \"C2\", \"C3\"]\n",
    "\n",
    "for f, l, cl in zip(fluxes, labels, colors):\n",
    "    print(\"label\", l)\n",
    "    qual = []\n",
    "    center = []\n",
    "\n",
    "    for ii in range(len(chunks)-1):\n",
    "        xmin = chunks[ii]\n",
    "        xmax = chunks[ii+1]\n",
    "        \n",
    "        this_center = (xmax + xmin)/2\n",
    "        center.append(this_center)\n",
    "        m = (wav <= xmax) & (wav >= xmin)\n",
    "        \n",
    "        qual.append(quality(wav[m], f[m])/1e4)\n",
    "        # print(\"ii\", ii, \"quality =\", qual[-1])    \n",
    "    #plt.plot(center, qual, \"*\", label=l, color=cl)\n",
    "    plt.step(center, qual, where=\"mid\", label=l, color=cl)\n",
    "\n",
    "\n",
    "plt.legend()\n",
    "plt.xlabel(\"Wavelength (Angstrom)\")\n",
    "plt.ylabel(r\"Q$_{100 A}$ ($\\times 10^4$)\")\n",
    "plt.title(\"Bouchy et al. 2001\")\n",
    "plt.show()"
   ]
  },
  {
   "cell_type": "markdown",
   "metadata": {},
   "source": [
    "This reproduction is very similar to Bouchy 2001 [2](#cite-bouchy_fundamental_2001) Figure 1. (as it should be) \n",
    "\n",
    "The values here are slightly higher than Bouchy. Their plot maximum quality for K5V is ~7.2 (ours is ~8.5)"
   ]
  },
  {
   "cell_type": "code",
   "execution_count": null,
   "metadata": {},
   "outputs": [],
   "source": [
    "<!--bibtex\n",
    "@article{bouchy_fundamental_2001,\n",
    "  title = {Fundamental Photon Noise Limit to Radial Velocity Measurements},\n",
    "  volume = {374},\n",
    "  issn = {0004-6361, 1432-0756},\n",
    "  doi = {10.1051/0004-6361:20010730},\n",
    "  number = {2},\n",
    "  journal = {Astronomy and Astrophysics},\n",
    "  author = {Bouchy, F. and Pepe, F. and Queloz, D.},\n",
    "  month = aug,\n",
    "  year = {2001},\n",
    "  pages = {733-739},\n",
    "  file = {/home/jneal/.mozilla/firefox/2rcitvnq.default/zotero/storage/UGSFCJ25/aa1316.pdf},\n",
    "  note = {00258}\n",
    "}\n",
    "\n",
    "@article{artigau_optical_2018,\n",
    "  archivePrefix = {arXiv},\n",
    "  eprinttype = {arxiv},\n",
    "  eprint = {1803.07646},\n",
    "  title = {Optical and {{Near}}-{{Infrared Radial Velocity Content}} of {{M Dwarfs}}: {{Testing Models}} with {{Barnard}}'s {{Star}}},\n",
    "  volume = {155},\n",
    "  issn = {1538-3881},\n",
    "  shorttitle = {Optical and {{Near}}-{{Infrared Radial Velocity Content}} of {{M Dwarfs}}},\n",
    "  doi = {10/gddxj4},\n",
    "  number = {5},\n",
    "  journal = {The Astronomical Journal},\n",
    "  author = {Artigau, {\\'E}tienne and Malo, Lison and Doyon, Ren{\\'e} and Figueira, Pedro and Delfosse, Xavier and Astudillo-Defru, Nicola},\n",
    "  month = apr,\n",
    "  year = {2018},\n",
    "  keywords = {Astrophysics - Instrumentation and Methods for Astrophysics,Astrophysics - Solar and Stellar Astrophysics},\n",
    "  pages = {198},\n",
    "  file = {/home/jneal/.mozilla/firefox/2rcitvnq.default/zotero/storage/7FULJUP6/Artigau et al_2018_Optical and Near-Infrared Radial Velocity Content of M Dwarfs.pdf;/home/jneal/.mozilla/firefox/2rcitvnq.default/zotero/storage/VXVUZDVW/1803.html}\n",
    "}\n",
    "\n",
    "-->"
   ]
  },
  {
   "cell_type": "markdown",
   "metadata": {},
   "source": [
    "# References\n",
    "\n",
    "<a name=\"cite-artigau_optical_2018\"/><sup>[^](#ref-1) </sup>Artigau, &Eacute;tienne and Malo, Lison and Doyon, Ren&eacute; and Figueira, Pedro and Delfosse, Xavier and Astudillo-Defru, Nicola. 2018. _Optical and Near-Infrared Radial Velocity Content of M Dwarfs: Testing Models with Barnard's Star_.\n",
    "\n",
    "<a name=\"cite-bouchy_fundamental_2001\"/><sup>[^](#ref-2) [^](#ref-3) </sup>Bouchy, F. and Pepe, F. and Queloz, D.. 2001. _Fundamental Photon Noise Limit to Radial Velocity Measurements_.\n",
    "\n"
   ]
  }
 ],
 "metadata": {
  "kernelspec": {
   "display_name": "Python [conda env:eniric]",
   "language": "python",
   "name": "conda-env-eniric-py"
  },
  "language_info": {
   "codemirror_mode": {
    "name": "ipython",
    "version": 3
   },
   "file_extension": ".py",
   "mimetype": "text/x-python",
   "name": "python",
   "nbconvert_exporter": "python",
   "pygments_lexer": "ipython3",
   "version": "3.6.5"
  }
 },
 "nbformat": 4,
 "nbformat_minor": 2
}
