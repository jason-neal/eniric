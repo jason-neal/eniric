{
 "cells": [
  {
   "cell_type": "markdown",
   "metadata": {},
   "source": [
    "# Extract Precisions with tabular\n",
    "\n",
    "A trail of tabular to extract the RV precision from our previous paper 1511.07468v1.pdf.\n"
   ]
  },
  {
   "cell_type": "code",
   "execution_count": null,
   "metadata": {
    "collapsed": false
   },
   "outputs": [],
   "source": [
    "from tabula import read_pdf, read_pdf_table\n",
    "import tabula\n",
    "# Tabular needs java 6 or 7! \n",
    "# This is a hack that will not work everywhere. \n",
    "# I included it becasue my system java is version 9.\n",
    "# You will need to point to own loaction of java. \n",
    "# https://stackoverflow.com/questions/31414041/how-to-prepend-a-path-to-sys-path-in-python\n",
    "\n",
    "# May need to manually prepend java location\n",
    "# using export to PATH before launching jupyter\n",
    "import sys\n",
    "b = sys.path\n",
    "sys.path = ['/opt/java/jre1.7.0_79/bin'] + b\n",
    "# print(sys.path)\n",
    "import pandas as pd"
   ]
  },
  {
   "cell_type": "code",
   "execution_count": null,
   "metadata": {
    "collapsed": true
   },
   "outputs": [],
   "source": [
    "# Specify paper\n",
    "paper = \"/home/jneal/Phd/Codes/eniric/docs/Figueira_etal_2016.pdf\"\n",
    "paper_home = \"/home/jneal/Phd/Codes/eniric2017/docs/Figueira_etal_2016.pdf\"\n",
    "pages = [15, 16, 17]\n"
   ]
  },
  {
   "cell_type": "code",
   "execution_count": null,
   "metadata": {
    "collapsed": false
   },
   "outputs": [],
   "source": [
    "# Read in the table from the pdf\n",
    "try:\n",
    "    df = read_pdf(paper, pages=pages, guess=True)\n",
    "except:\n",
    "    df = read_pdf(paper_home, pages=pages, guess=True)\n"
   ]
  },
  {
   "cell_type": "code",
   "execution_count": null,
   "metadata": {
    "collapsed": false
   },
   "outputs": [],
   "source": [
    "# There is an extra line of headings which need removed.\n",
    "# There is also a couple more futher in the data from \n",
    "# the top of each table as it spans 3 pages.\n",
    "df.head()"
   ]
  },
  {
   "cell_type": "code",
   "execution_count": null,
   "metadata": {
    "collapsed": false
   },
   "outputs": [],
   "source": [
    "# Remove mistakenly added title rows\n",
    "# Easily done beacuse they do not start with \"M\"\n",
    "df = df[df.Simulation.str.startswith(\"M\")]\n",
    "df.head()"
   ]
  },
  {
   "cell_type": "code",
   "execution_count": null,
   "metadata": {
    "collapsed": false
   },
   "outputs": [],
   "source": [
    "# Format the column names\n",
    "print(df.columns)\n",
    "df.columns = df.columns.str.replace(' ', '_')\n",
    "df.columns = df.columns.str.replace('σ', '')\n",
    "df.columns = df.columns.str.replace('(', '')\n",
    "df.columns = df.columns.str.replace(')', '')\n",
    "df.columns = df.columns.str.replace('.', '')\n",
    "df.columns"
   ]
  },
  {
   "cell_type": "code",
   "execution_count": null,
   "metadata": {
    "collapsed": false
   },
   "outputs": [],
   "source": [
    "# Turing RV precision values to floats\n",
    "print(\"Before:\\n\", df.dtypes)\n",
    "\n",
    "df[\"RV_Cond_1\"] = df.RV_Cond_1.astype(float)\n",
    "df[\"RV_Cond_2\"] = df.RV_Cond_2.astype(float)\n",
    "df[\"RV_Cond_3\"] = df.RV_Cond_3.astype(float)\n",
    "\n",
    "print(\"\\nAfter:\\n\", df.dtypes)"
   ]
  },
  {
   "cell_type": "code",
   "execution_count": null,
   "metadata": {
    "collapsed": false
   },
   "outputs": [],
   "source": [
    "# Add units to headers to save\n",
    "hdr = df.columns\n",
    "new_header = [hdr[0], hdr[1]+\"[m/s]\", hdr[2]+\"[m/s]\", hdr[3]+\"[m/s]\"]   # Adjust header to save results\n",
    "new_header"
   ]
  },
  {
   "cell_type": "code",
   "execution_count": null,
   "metadata": {
    "collapsed": true
   },
   "outputs": [],
   "source": [
    "# Save Results to file\n",
    "f = \"../../data/precision_data_paper2015.txt\"\n",
    "\n",
    "df.to_csv(f, mode='w', sep=\"\\t\", float_format=\"%6.2f\", header=new_header, index=False)\n"
   ]
  },
  {
   "cell_type": "code",
   "execution_count": null,
   "metadata": {
    "collapsed": true
   },
   "outputs": [],
   "source": [
    "df.head()\n"
   ]
  },
  {
   "cell_type": "code",
   "execution_count": null,
   "metadata": {},
   "outputs": [],
   "source": [
    "# Check read in\n",
    "newdf = pd.read_csv(f, sep=\"\\t\")\n",
    "\n",
    "newdf.head()"
   ]
  },
  {
   "cell_type": "code",
   "execution_count": null,
   "metadata": {},
   "outputs": [],
   "source": []
  },
  {
   "cell_type": "code",
   "execution_count": null,
   "metadata": {},
   "outputs": [],
   "source": []
  }
 ],
 "metadata": {
  "anaconda-cloud": {},
  "kernelspec": {
   "display_name": "Python 3",
   "language": "python",
   "name": "python3"
  },
  "language_info": {
   "codemirror_mode": {
    "name": "ipython",
    "version": 3
   },
   "file_extension": ".py",
   "mimetype": "text/x-python",
   "name": "python",
   "nbconvert_exporter": "python",
   "pygments_lexer": "ipython3",
   "version": "3.5.4"
  }
 },
 "nbformat": 4,
 "nbformat_minor": 2
}
