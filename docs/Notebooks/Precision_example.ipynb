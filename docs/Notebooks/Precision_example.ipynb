{
 "cells": [
  {
   "cell_type": "markdown",
   "metadata": {},
   "source": [
    "# Example how to calculate the RV precision"
   ]
  },
  {
   "cell_type": "code",
   "execution_count": null,
   "metadata": {
    "scrolled": true
   },
   "outputs": [],
   "source": [
    "from eniric import Qcalculator\n",
    "import matplotlib.pyplot as plt\n",
    "from eniric.resample import resample"
   ]
  },
  {
   "cell_type": "code",
   "execution_count": null,
   "metadata": {},
   "outputs": [],
   "source": [
    "# Load a spectrum\n",
    "from astropy.io import fits\n",
    "data = fits.getdata(\"/home/jneal/.handy_spectra/HD30501-1-mixavg-tellcorr_1_bervcorr.fits\")\n",
    "wav = data[\"Wavelength\"]\n",
    "flux = data[\"Flux\"]\n",
    "# wav = fits.getdata() / 10\n",
    "# flux = fits.getdata()\n",
    "\n",
    "print(len(flux))"
   ]
  },
  {
   "cell_type": "code",
   "execution_count": null,
   "metadata": {},
   "outputs": [],
   "source": [
    "# Select a section of wavelength\n",
    "xmin = 2000  # nm\n",
    "xmax = 3000  # nm\n",
    "mask = (wav>=xmin) & (wav<=xmax)\n",
    "wav=wav[mask]\n",
    "flux=flux[mask]\n",
    "\n",
    "print(len(flux))"
   ]
  },
  {
   "cell_type": "code",
   "execution_count": null,
   "metadata": {},
   "outputs": [],
   "source": [
    "precision = Qcalculator.RVprec_calc(wavelength=wav, flux=flux)\n",
    "\n",
    "print(f\"RV precision between {xmin}-{xmax} = {precision}\")"
   ]
  },
  {
   "cell_type": "code",
   "execution_count": null,
   "metadata": {},
   "outputs": [],
   "source": [
    "# The precision needs to be scaled to the relative SNR.\n",
    "scales = [0.1, 0.2, 0.5, 2, 5, 10]\n",
    "prec = [Qcalculator.RVprec_calc(wavelength=wav, flux=flux * scale).value for scale in scales]\n",
    "\n",
    "plt.plot(scales, prec)\n",
    "plt.xlabel(\"Flux scales\")\n",
    "plt.ylabel(\"Precision (m/s)\")\n",
    "plt.show()\n"
   ]
  },
  {
   "cell_type": "code",
   "execution_count": null,
   "metadata": {},
   "outputs": [],
   "source": []
  }
 ],
 "metadata": {
  "kernelspec": {
   "display_name": "Python [conda env:eniric]",
   "language": "python",
   "name": "conda-env-eniric-py"
  },
  "language_info": {
   "codemirror_mode": {
    "name": "ipython",
    "version": 3
   },
   "file_extension": ".py",
   "mimetype": "text/x-python",
   "name": "python",
   "nbconvert_exporter": "python",
   "pygments_lexer": "ipython3",
   "version": "3.6.5"
  }
 },
 "nbformat": 4,
 "nbformat_minor": 2
}
