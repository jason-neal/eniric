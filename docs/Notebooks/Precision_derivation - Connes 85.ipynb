{
 "cells": [
  {
   "cell_type": "markdown",
   "metadata": {},
   "source": [
    "# Table of Contents\n",
    "* [Plot showing the derivation of precision.](#Plot-showing-the-derivation-of-precision.)\n"
   ]
  },
  {
   "cell_type": "markdown",
   "metadata": {},
   "source": [
    "#  Plot showing the derivation of precision."
   ]
  },
  {
   "cell_type": "markdown",
   "metadata": {},
   "source": [
    "[Connes 1985](#cite-Connes1985)   https://doi.org/10.1007/BF00653671"
   ]
  },
  {
   "cell_type": "code",
   "execution_count": 1,
   "metadata": {},
   "outputs": [],
   "source": [
    "import numpy as np\n",
    "import matplotlib.pyplot as plt"
   ]
  },
  {
   "cell_type": "code",
   "execution_count": 2,
   "metadata": {},
   "outputs": [
    {
     "data": {
      "image/png": "[encoded data removed]",
      "text/plain": [
       "<Figure size 432x288 with 1 Axes>"
      ]
     },
     "metadata": {},
     "output_type": "display_data"
    }
   ],
   "source": [
    "x = np.arange(0,  1.6, 0.01)\n",
    "\n",
    "sigma = 0.2\n",
    "mean = .7\n",
    "mean2 = mean+ 0.08\n",
    "ax = plt.subplot(111)\n",
    "g1 = lambda x: 1 - 0.5/np.sqrt(2*np.pi*sigma**2) * np.exp(-(x-mean)**2 / 2 / sigma**2)\n",
    "g2 = lambda x: 1 - 0.5/np.sqrt(2*np.pi*sigma**2) * np.exp(-(x-mean2)**2 / 2 / sigma**2) \n",
    "#y2 = np.cos(x + np.pi/12)\n",
    "\n",
    "ax.plot(x, g1(x), \".\", label=\"A$_0$\")\n",
    "ax.plot(x, g2(x), \".\", label=\"A\")\n",
    "\n",
    "#plt.axvline(0.5, -.5, g1(0.5))\n",
    "#plt.axvline(x=0, ymin=0, ymax=1, hold=None, **kwargs)\n",
    "plt.axvline?\n",
    "x1 = 0.48\n",
    "x2 = 0.55\n",
    "y1 = g1(x1)\n",
    "y2 = g2(x1)\n",
    "y3 = g2(x2)\n",
    "\n",
    "ax.axvline(x=x1, ymin=0, ymax=y2, color=\"blue\")\n",
    "ax.axvline(x=x1, ymin=0, ymax=y1, color=\"red\")\n",
    "ax.axvline(x=x2, ymin=0, ymax=y3, color=\"orange\")\n",
    "ax.axhline(y=y2, xmin=0, xmax=x1, color=\"green\")\n",
    "ax.axhline(y=y3, xmin=0, xmax=x2, color=\"black\")\n",
    "\n",
    "plt.xlabel(\"$\\lambda$\")\n",
    "plt.annotate(s=\"$\\delta \\lambda$\", xy=(0.32, 0.2), xycoords=\"axes fraction\")\n",
    "plt.annotate(s=\"$A$\", xy=(0.01, 0.7), xycoords=\"axes fraction\")\n",
    "plt.annotate(s=\"$A_0$\", xy=(0.01, 0.5), xycoords=\"axes fraction\")\n",
    "\n",
    "plt.legend()\n",
    "plt.show()"
   ]
  },
  {
   "cell_type": "code",
   "execution_count": null,
   "metadata": {},
   "outputs": [],
   "source": []
  },
  {
   "cell_type": "code",
   "execution_count": 3,
   "metadata": {},
   "outputs": [
    {
     "data": {
      "text/plain": [
       "<matplotlib.lines.Line2D at 0x7f72f37d8860>"
      ]
     },
     "execution_count": 3,
     "metadata": {},
     "output_type": "execute_result"
    },
    {
     "data": {
      "image/png": "[encoded data removed]",
      "text/plain": [
       "<Figure size 432x288 with 1 Axes>"
      ]
     },
     "metadata": {},
     "output_type": "display_data"
    }
   ],
   "source": [
    "plt.plot()\n",
    "plt.axvline(0.5, 0, 0.5)\n",
    "plt.axhline(0.5, 0, 0.5, color=\"red\")"
   ]
  },
  {
   "cell_type": "code",
   "execution_count": null,
   "metadata": {},
   "outputs": [],
   "source": []
  },
  {
   "cell_type": "code",
   "execution_count": null,
   "metadata": {},
   "outputs": [],
   "source": [
    "<!--bibtex\n",
    "\n",
    "@article{Connes1985,\n",
    "  title = {Absolute Astronomical Accelerometry},\n",
    "  volume = {110},\n",
    "  issn = {1572-946X},\n",
    "  doi = {10/dk66bp},\n",
    "  abstract = {Two distinct but fully compatible novel concepts are proposed here for solar/stellar velocity measurements. The first is that of absolute accelerometry proper. This involves two simultaneously, operating servo-control loops First, a variable path-difference Fabry-Perot interferometer is adjusted so that its bandpasses track the fluctuations of either a single spectral line (in the solar case, leading to the solar accelerometer), or of all lines simultaneously (stellar accelerometer). The second loop involves a tunable laser tracking one of the FP bandpasses. The net overall result is that a laser line tracks the stellar/solar ones: the problem of measuring Doppler-shift changes has been transferred from the incoherent to the coherent optics domain. One then measures the beat frequency generated by mixing the tunable laser beam with that of stabilized laser. Only velocity changes are accessible; the devices are true accelerometers, but absolute ones. All instrumental or spectral characteristics drop out; no calibration of any kind is required; hence, one may hope for an unusually low level of systematic errors.},\n",
    "  number = {2},\n",
    "  journal = {Astrophysics and Space Science},\n",
    "  author = {Connes, Pierre},\n",
    "  month = mar,\n",
    "  year = {1985},\n",
    "  pages = {211-255},\n",
    "  day = {01}\n",
    "}\n",
    "-->"
   ]
  },
  {
   "cell_type": "code",
   "execution_count": null,
   "metadata": {},
   "outputs": [],
   "source": []
  },
  {
   "cell_type": "markdown",
   "metadata": {},
   "source": [
    "# References\n",
    "\n"
   ]
  }
 ],
 "metadata": {
  "kernelspec": {
   "display_name": "Python [conda env:eniric]",
   "language": "python",
   "name": "conda-env-eniric-py"
  },
  "language_info": {
   "codemirror_mode": {
    "name": "ipython",
    "version": 3
   },
   "file_extension": ".py",
   "mimetype": "text/x-python",
   "name": "python",
   "nbconvert_exporter": "python",
   "pygments_lexer": "ipython3",
   "version": "3.6.5"
  }
 },
 "nbformat": 4,
 "nbformat_minor": 2
}
