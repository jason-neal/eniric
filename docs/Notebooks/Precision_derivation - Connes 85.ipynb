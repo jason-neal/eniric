{
 "cells": [
  {
   "cell_type": "markdown",
   "metadata": {},
   "source": [
    "# Table of Contents\n",
    "* [Plot showing the derivation of precision.](#Plot-showing-the-derivation-of-precision.)\n"
   ]
  },
  {
   "cell_type": "markdown",
   "metadata": {},
   "source": [
    "#  Plot showing the derivation of precision."
   ]
  },
  {
   "cell_type": "markdown",
   "metadata": {},
   "source": [
    "[Connes 1985](#cite-Connes1985)   https://doi.org/10.1007/BF00653671"
   ]
  },
  {
   "cell_type": "code",
   "execution_count": 36,
   "metadata": {},
   "outputs": [],
   "source": [
    "import numpy as np\n",
    "import matplotlib.pyplot as plt\n",
    "from matplotlib.patches import ArrowStyle\n",
    "plt.rc('text', usetex=True)"
   ]
  },
  {
   "cell_type": "code",
   "execution_count": 42,
   "metadata": {},
   "outputs": [
    {
     "data": {
      "image/png": "[encoded data removed]",
      "text/plain": [
       "<Figure size 432x288 with 1 Axes>"
      ]
     },
     "metadata": {},
     "output_type": "display_data"
    }
   ],
   "source": [
    "x = np.arange(0,  1.1, 0.01)\n",
    "\n",
    "sigma = 0.2\n",
    "mean = .7\n",
    "mean2 = mean+ 0.08\n",
    "ax = plt.subplot(111)\n",
    "g1 = lambda x: 1 - 0.5/np.sqrt(2*np.pi*sigma**2) * np.exp(-(x-mean)**2 / 2 / sigma**2)\n",
    "g2 = lambda x: 1 - 0.5/np.sqrt(2*np.pi*sigma**2) * np.exp(-(x-mean2)**2 / 2 / sigma**2) \n",
    "#y2 = np.cos(x + np.pi/12)\n",
    "\n",
    "ax.plot(x, g2(x),\"-.\",  label=r\"$A(\\lambda)$\")\n",
    "ax.plot(x, g1(x), label=r\"$A_{0}(\\lambda)$\")\n",
    "\n",
    "\n",
    "x3 = 0.42\n",
    "x2 = 0.49\n",
    "x1 = 0.505  # d lambda\n",
    "y11 = g1(x1)\n",
    "y12 = g1(x2)\n",
    "y21 = g2(x1)\n",
    "y22 = g2(x2)\n",
    "#y4 = g2(x2)\n",
    "\n",
    "# d lambda\n",
    "\n",
    "plt.annotate(s=r\"d$\\lambda$\", xy=(x2-.02, -0.07), xycoords=\"data\")\n",
    "ax.vlines(x=x1, ymin=0, ymax=y21, color=\"orange\")\n",
    "ax.vlines(x=x2, ymin=0, ymax=y21, color=\"orange\")\n",
    "\n",
    "\n",
    "# Horizontal lines\n",
    "ax.hlines(y=y11, xmin=0, xmax=x1, color=\"k\", alpha=0.6)\n",
    "plt.annotate(s=r\"$A_{0}$\", xy=(0.01, y11-0.07), xycoords=\"data\")\n",
    "ax.hlines(y=y21, xmin=0, xmax=x1, color=\"k\", alpha=0.6)\n",
    "plt.annotate(s=r\"$A$\", xy=(0.01, y21-0.07), xycoords=\"data\")\n",
    "\n",
    "\n",
    "# Spectral range\n",
    "s1 = 0.1\n",
    "As1  = g1(s1)\n",
    "s2 = 1.0\n",
    "As2 = g1(s2)\n",
    "#plt.hlines(y=-0.1, xmin=s1, xmax=s2, color=\"black\", linestyles=\"dashed\", alpha=0.6)\n",
    "plt.vlines(x=s2, ymin=-0.1, ymax=As2, color=\"black\", linestyles=\"dashed\", alpha=0.6)\n",
    "plt.vlines(x=s1, ymin=-0.1, ymax=As1, color=\"black\", linestyles=\"dashed\", alpha=0.6)\n",
    "plt.annotate(s=\"$\\Sigma$\", xy=((s2+s1)/2, -0.17), xycoords=\"data\")  # Add end ticks\n",
    "plt.annotate(\"\", xy=(s1, -0.1), xytext=(s2, -0.1), \n",
    "             arrowprops=dict(arrowstyle=\"<->\", color=\"k\",linestyle=\"dashed\",alpha=.6, lw=1.1))\n",
    "\n",
    "# \\delta lambda\n",
    "plt.annotate(s=\"$\\delta \\lambda$\", xy=((x1+x3-0.04)/2, 0.85), xycoords=\"data\")\n",
    "plt.vlines(x=x1, ymin=y21, ymax=0.9, color=\"grey\", linestyles=\"dashed\")\n",
    "plt.vlines(x=x3, ymin=y21, ymax=0.9, color=\"grey\", linestyles=\"dashed\")\n",
    "plt.annotate(\"\", xy=(x1, 0.86), xytext=(x1+0.07, 0.86), arrowprops=dict(arrowstyle=\"->\"))\n",
    "plt.annotate(\"\", xy=(x3, 0.86), xytext=(x3-0.07, 0.86), arrowprops=dict(arrowstyle=\"->\"))\n",
    "\n",
    "# Hide Ticks\n",
    "ax.axes.get_xaxis().set_ticks([])\n",
    "ax.axes.get_yaxis().set_ticks([])\n",
    "\n",
    "plt.legend(loc=\"best\")\n",
    "plt.ylabel(r\"$A(\\lambda)$\")\n",
    "plt.xlabel(r\"$\\lambda$\")\n",
    "\n",
    "# Hide the right and top spines\n",
    "ax.spines['right'].set_visible(False)\n",
    "ax.spines['top'].set_visible(False)\n",
    "\n",
    "plt.ylim([-0.2,1.1])\n",
    "plt.show()"
   ]
  },
  {
   "cell_type": "code",
   "execution_count": null,
   "metadata": {},
   "outputs": [],
   "source": []
  },
  {
   "cell_type": "code",
   "execution_count": null,
   "metadata": {},
   "outputs": [],
   "source": []
  },
  {
   "cell_type": "code",
   "execution_count": null,
   "metadata": {},
   "outputs": [],
   "source": [
    "<!--bibtex\n",
    "\n",
    "@article{Connes1985,\n",
    "  title = {Absolute Astronomical Accelerometry},\n",
    "  volume = {110},\n",
    "  issn = {1572-946X},\n",
    "  doi = {10/dk66bp},\n",
    "  abstract = {Two distinct but fully compatible novel concepts are proposed here for solar/stellar velocity measurements. The first is that of absolute accelerometry proper. This involves two simultaneously, operating servo-control loops First, a variable path-difference Fabry-Perot interferometer is adjusted so that its bandpasses track the fluctuations of either a single spectral line (in the solar case, leading to the solar accelerometer), or of all lines simultaneously (stellar accelerometer). The second loop involves a tunable laser tracking one of the FP bandpasses. The net overall result is that a laser line tracks the stellar/solar ones: the problem of measuring Doppler-shift changes has been transferred from the incoherent to the coherent optics domain. One then measures the beat frequency generated by mixing the tunable laser beam with that of stabilized laser. Only velocity changes are accessible; the devices are true accelerometers, but absolute ones. All instrumental or spectral characteristics drop out; no calibration of any kind is required; hence, one may hope for an unusually low level of systematic errors.},\n",
    "  number = {2},\n",
    "  journal = {Astrophysics and Space Science},\n",
    "  author = {Connes, Pierre},\n",
    "  month = mar,\n",
    "  year = {1985},\n",
    "  pages = {211-255},\n",
    "  day = {01}\n",
    "}\n",
    "-->"
   ]
  },
  {
   "cell_type": "code",
   "execution_count": null,
   "metadata": {},
   "outputs": [],
   "source": []
  },
  {
   "cell_type": "markdown",
   "metadata": {},
   "source": [
    "# References\n",
    "\n"
   ]
  }
 ],
 "metadata": {
  "kernelspec": {
   "display_name": "Python [conda env:eniric]",
   "language": "python",
   "name": "conda-env-eniric-py"
  },
  "language_info": {
   "codemirror_mode": {
    "name": "ipython",
    "version": 3
   },
   "file_extension": ".py",
   "mimetype": "text/x-python",
   "name": "python",
   "nbconvert_exporter": "python",
   "pygments_lexer": "ipython3",
   "version": "3.6.5"
  }
 },
 "nbformat": 4,
 "nbformat_minor": 2
}
