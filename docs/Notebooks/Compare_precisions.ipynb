{
 "cells": [
  {
   "cell_type": "markdown",
   "metadata": {},
   "source": [
    "# RV precision comparision\n",
    "Compare rv precision to published results.\n",
    "\n",
    "Jason Neal\n",
    "15th Feburary 2015"
   ]
  },
  {
   "cell_type": "code",
   "execution_count": null,
   "metadata": {},
   "outputs": [],
   "source": [
    "import numpy as np\n",
    "import pandas as pd\n",
    "import matplotlib.pyplot as plt"
   ]
  },
  {
   "cell_type": "markdown",
   "metadata": {},
   "source": [
    "## Load in the precision results"
   ]
  },
  {
   "cell_type": "code",
   "execution_count": null,
   "metadata": {},
   "outputs": [],
   "source": [
    "old_precision_file = \"../../data/precision_figueira_2016\"\n",
    "df_pub = pd.read_table(old_precision_file)\n",
    "df_pub.columns\n",
    "# df_old_corrected = ...\n",
    "\n",
    "df_pub.head()"
   ]
  },
  {
   "cell_type": "code",
   "execution_count": null,
   "metadata": {},
   "outputs": [],
   "source": [
    "new_chunks_file = \"../../data/old_fluxnorm_precision_results_2017.txt\"\n",
    "df_old_fluxnorm = pd.read_table(new_chunks_file)\n",
    "df_old_fluxnorm=df_old_fluxnorm.rename(columns = {'# id':'Simulation'})\n",
    "# Round to 1 dp.\n",
    "df_old_fluxnorm.prec_1 = np.round(df_old_fluxnorm.prec_1, 1)\n",
    "df_old_fluxnorm.prec_2 = np.round(df_old_fluxnorm.prec_2, 1)\n",
    "df_old_fluxnorm.prec_3 = np.round(df_old_fluxnorm.prec_3, 1)\n",
    "df_old_fluxnorm.head()"
   ]
  },
  {
   "cell_type": "code",
   "execution_count": null,
   "metadata": {},
   "outputs": [],
   "source": [
    "new_snrnorm_file = \"../../data/precision_results_2017.txt\"\n",
    "df_new = pd.read_table(new_snrnorm_file)\n",
    "df_new=df_new.rename(columns = {'# id':'Simulation'})\n",
    "# Round to 1dp\n",
    "df_new.prec_1 = np.round(df_new.prec_1, 1)\n",
    "df_new.prec_2 = np.round(df_new.prec_2, 1)\n",
    "df_new.prec_3 = np.round(df_new.prec_3, 1)\n",
    "df_new.head()\n"
   ]
  },
  {
   "cell_type": "code",
   "execution_count": null,
   "metadata": {},
   "outputs": [],
   "source": [
    "# Check all rows are the same between tables.\n",
    "assert np.all(df_new.Simulation == df_old_fluxnorm.Simulation)\n",
    "assert np.all(df_pub.Simulation == df_new.Simulation)"
   ]
  },
  {
   "cell_type": "code",
   "execution_count": null,
   "metadata": {},
   "outputs": [],
   "source": [
    "# Header names Simulation\tRV_Cond_1[m/s]\tRV_Cond_2[m/s]\tRV_Cond_3[m/s]\n",
    "print(df_pub.columns)\n",
    "print(df_old_fluxnorm.columns)\n",
    "print(df_new.columns)"
   ]
  },
  {
   "cell_type": "markdown",
   "metadata": {},
   "source": [
    "## Compare results of fixing the mask bug. \n",
    "Effects condition 2."
   ]
  },
  {
   "cell_type": "code",
   "execution_count": null,
   "metadata": {
    "scrolled": true
   },
   "outputs": [],
   "source": [
    "# Comapre between df_pub and df_old_fluxnorm\n",
    "\n",
    "# Assert that Precision 1 and 3 do not change from clumping bug.\n",
    "# print(df_old_fluxnorm[\"prec_1\"] == df_pub[\"RV_Cond_1[m/s]\"])\n",
    "# print(\"A simulation that is not equal, id {}, published {}, new {}\".format(df_pub.Simulation[25], df_pub[\"RV_Cond_1[m/s]\"][25], df_old_fluxnorm.prec_1[25]))\n",
    "\n",
    "# the +/- 0.1 accounts for any rounding errors in cond_1 and cond_3\n",
    "assert np.all((df_old_fluxnorm[\"prec_1\"] == df_pub[\"RV_Cond_1[m/s]\"]) | (df_pub[\"RV_Cond_1[m/s]\"] - 0.1 <= df_old_fluxnorm[\"prec_1\"]) | (df_old_fluxnorm[\"prec_1\"] <= df_pub[\"RV_Cond_1[m/s]\"] + 0.1))\n",
    "assert np.all((df_old_fluxnorm[\"prec_3\"] == df_pub[\"RV_Cond_3[m/s]\"]) | (df_pub[\"RV_Cond_3[m/s]\"] - 0.1 <= df_old_fluxnorm[\"prec_3\"]) | (df_old_fluxnorm[\"prec_3\"] <= df_pub[\"RV_Cond_3[m/s]\"] + 0.1))\n",
    "\n",
    "# Count number of percision in cond 2 that decreased\n",
    "print(\"For condition_2.\")\n",
    "cond_2_up = (df_old_fluxnorm[\"prec_2\"] > df_pub[\"RV_Cond_2[m/s]\"]).sum()\n",
    "cond_2_down = (df_old_fluxnorm[\"prec_2\"] < df_pub[\"RV_Cond_2[m/s]\"]).sum()\n",
    "print(\"Number of Simulations that improve precision from fixing clumping = {}\".format(cond_2_down))\n",
    "print(\"Number of Simulations that worsen precision from fixing clumping = {}\".format(cond_2_up))\n",
    "\n",
    "# Percentage of change\n",
    "# 100 * (new - old) / old\n",
    "percent_diff = 100 * (df_old_fluxnorm[\"prec_2\"] - df_pub[\"RV_Cond_2[m/s]\"]) / df_pub[\"RV_Cond_2[m/s]\"]\n",
    "\n",
    "percent_diff.hist(bins=20, label=\"cond2\")\n",
    "plt.xlabel(\"Percentage of RV Change.\")\n",
    "plt.legend()\n",
    "plt.title(\"RV prevision change due to fixed masking.\")\n",
    "plt.show()\n"
   ]
  },
  {
   "cell_type": "code",
   "execution_count": null,
   "metadata": {},
   "outputs": [],
   "source": [
    "# Compare results of changing normalization. \n",
    "# Comapre between df_new and df_old_fluxnorm\n",
    "\n",
    "# Calcualte percentage difference inc precsion of cond 1, 2, 3\n",
    "# With 1 and 3 testing the normalization.\n",
    "# Count number of percision in cond 2 that decreased\n",
    "cond_1_up = (df_new[\"prec_1\"] > df_old_fluxnorm[\"prec_1\"]).sum()\n",
    "cond_1_down = (df_new[\"prec_1\"] < df_old_fluxnorm[\"prec_1\"]).sum()\n",
    "cond_2_up = (df_new[\"prec_2\"] > df_old_fluxnorm[\"prec_2\"]).sum()\n",
    "cond_2_down = (df_new[\"prec_2\"] < df_old_fluxnorm[\"prec_2\"]).sum()\n",
    "cond_3_up = (df_new[\"prec_3\"] > df_old_fluxnorm[\"prec_3\"]).sum()\n",
    "cond_3_down = (df_new[\"prec_3\"] < df_old_fluxnorm[\"prec_3\"]).sum()\n",
    "print(\"Number of Simulations that improve precision from fixing clumping = {}\".format(cond_1_down))\n",
    "print(\"Number of Simulations that worsen precision from fixing clumping = {}\".format(cond_1_up))\n",
    "print(\"Number of Simulations that improve precision from fixing clumping = {}\".format(cond_2_down))\n",
    "print(\"Number of Simulations that worsen precision from fixing clumping = {}\".format(cond_2_up))\n",
    "print(\"Number of Simulations that improve precision from fixing clumping = {}\".format(cond_3_down))\n",
    "print(\"Number of Simulations that worsen precision from fixing clumping = {}\".format(cond_3_up))\n",
    "\n",
    "\n",
    "# Percentage of change\n",
    "# 100 * (new - old) / old\n",
    "cond1_percent_diff = 100 * (df_new[\"prec_1\"] - df_old_fluxnorm[\"prec_1\"]) / df_old_fluxnorm[\"prec_1\"]\n",
    "cond2_percent_diff = 100 * (df_new[\"prec_2\"] - df_old_fluxnorm[\"prec_2\"]) / df_old_fluxnorm[\"prec_2\"]\n",
    "cond3_percent_diff = 100 * (df_new[\"prec_3\"] - df_old_fluxnorm[\"prec_3\"]) / df_old_fluxnorm[\"prec_3\"]\n",
    "\n",
    "cond1_percent_diff.hist(bins=20, label=\"cond1\")\n",
    "plt.xlabel(\"Percentage of RV Change.\")\n",
    "plt.legend()\n",
    "plt.title(\"RV prevision change due to automatated snr normalization.\")\n",
    "plt.show()\n",
    "\n",
    "cond2_percent_diff.hist(bins=20, label=\"cond2\")\n",
    "plt.xlabel(\"Percentage of RV Change.\")\n",
    "plt.legend()\n",
    "plt.title(\"RV prevision change due to automatated snr normalization.\")\n",
    "plt.show()\n",
    "\n",
    "cond3_percent_diff.hist(bins=20, label=\"cond3\")\n",
    "plt.xlabel(\"Percentage of RV Change.\")\n",
    "plt.legend()\n",
    "plt.title(\"RV prevision change due to automatated snr normalization.\")\n",
    "plt.show()\n",
    "\n",
    "print(\"These show that the change due to automatic normalization is less then 3%, and over 1/3 less than 0.25% change\")\n",
    "print(\"The normalization only worsens the precision (increases value).\")"
   ]
  },
  {
   "cell_type": "code",
   "execution_count": null,
   "metadata": {},
   "outputs": [],
   "source": [
    "# Compare results of fixing clumping and changing the normalization. \n",
    "# Comapre between df_new and df_pub\n",
    "\n",
    "# Calcualte percentage difference inc precsion of cond 1, 2, 3\n",
    "# With 1 and 3 testing the normalization.\n",
    "# Count number of percision in cond 2 that decreased\n",
    "cond_1_up = (df_new[\"prec_1\"] > df_pub[\"RV_Cond_1[m/s]\"]).sum()\n",
    "cond_1_down = (df_new[\"prec_1\"] < df_pub[\"RV_Cond_1[m/s]\"]).sum()\n",
    "cond_2_up = (df_new[\"prec_2\"] > df_pub[\"RV_Cond_2[m/s]\"]).sum()\n",
    "cond_2_down = (df_new[\"prec_2\"] < df_pub[\"RV_Cond_2[m/s]\"]).sum()\n",
    "cond_3_up = (df_new[\"prec_3\"] > df_pub[\"RV_Cond_3[m/s]\"]).sum()\n",
    "cond_3_down = (df_new[\"prec_3\"] < df_pub[\"RV_Cond_3[m/s]\"]).sum()\n",
    "print(\"Number of Simulations that improve precision from all fixes = {}\".format(cond_1_down))\n",
    "print(\"Number of Simulations that worsen precision from all fixes = {}\".format(cond_1_up))\n",
    "print(\"Number of Simulations that improve precision from all fixes = {}\".format(cond_2_down))\n",
    "print(\"Number of Simulations that worsen precision from all fixes = {}\".format(cond_2_up))\n",
    "print(\"Number of Simulations that improve precision from all fixes = {}\".format(cond_3_down))\n",
    "print(\"Number of Simulations that worsen precision from all fixes = {}\".format(cond_3_up))\n",
    "\n",
    "\n",
    "# Percentage of change\n",
    "# 100 * (new - old) / old\n",
    "all_cond1_percent_diff = 100 * (df_new[\"prec_1\"] - df_pub[\"RV_Cond_1[m/s]\"]) / df_pub[\"RV_Cond_1[m/s]\"]\n",
    "all_cond2_percent_diff = 100 * (df_new[\"prec_2\"] - df_pub[\"RV_Cond_2[m/s]\"]) / df_pub[\"RV_Cond_2[m/s]\"]\n",
    "all_cond3_percent_diff = 100 * (df_new[\"prec_3\"] - df_pub[\"RV_Cond_3[m/s]\"]) / df_pub[\"RV_Cond_3[m/s]\"]\n",
    "\n",
    "all_cond1_percent_diff.hist(bins=20, label=\"cond1\")\n",
    "plt.xlabel(\"Percentage of RV Change.\")\n",
    "plt.legend()\n",
    "plt.title(\"RV prevision change due to all fixes.\")\n",
    "plt.show()\n",
    "\n",
    "all_cond2_percent_diff.hist(bins=20, label=\"cond2\")\n",
    "plt.xlabel(\"Percentage of RV Change.\")\n",
    "plt.legend()\n",
    "plt.title(\"RV prevision change due to all fixes.\")\n",
    "plt.show()\n",
    "\n",
    "all_cond3_percent_diff.hist(bins=20, label=\"cond3\")\n",
    "plt.xlabel(\"Percentage of RV Change.\")\n",
    "plt.legend()\n",
    "plt.title(\"RV prevision change due to all fixes.\")\n",
    "plt.show()\n",
    "\n",
    "\n",
    "print(\"The majority of the changes comes from the bug in condition_2.\")"
   ]
  },
  {
   "cell_type": "code",
   "execution_count": null,
   "metadata": {},
   "outputs": [],
   "source": [
    "# Find the large discrepencies in precision  >50 %erc\n",
    "\n",
    "# Find the extreme changing precisions\n",
    "\n",
    "percentage_lim = 200\n",
    "mask = all_cond2_percent_diff > percentage_lim\n",
    "dict_for_df = {\"Simulation\": df_new.Simulation[mask],\n",
    "               \"pub_cond_2\": df_pub[\"RV_Cond_2[m/s]\"][mask],\n",
    "               \"new_cond_2\": df_new.prec_2[mask],\n",
    "               \"pub_cond_1\": df_pub[\"RV_Cond_1[m/s]\"][mask],\n",
    "               \"new_cond_1\": df_new.prec_1[mask],\n",
    "               \"pub_cond_3\": df_pub[\"RV_Cond_3[m/s]\"][mask],\n",
    "               \"new_cond_3\": df_new.prec_3[mask]}\n",
    "\n",
    "# print(df_new.Simulation[all_cond1_percent_diff > 2])\n",
    "df_large = pd.DataFrame(dict_for_df)  # print(df_new.Simulation[all_cond3_percent_diff > 2])\n",
    "cols = df_large.columns.tolist()\n",
    "new_cols = ['Simulation', 'pub_cond_1', 'new_cond_1', 'pub_cond_2', 'new_cond_2', 'pub_cond_3', 'new_cond_3']\n",
    "df_large = df_large[new_cols]  # Reorder columns\n",
    "print(\"Simulations that have a large change in precision for condition 2.\")\n",
    "df_large.head()\n",
    "\n",
    "# Most large changes in precision from the K band."
   ]
  },
  {
   "cell_type": "code",
   "execution_count": null,
   "metadata": {},
   "outputs": [],
   "source": [
    "cols = df_large.columns.tolist()\n",
    "new_cols = ['Simulation', 'pub_cond_1', 'new_cond_1', 'pub_cond_2', 'new_cond_2', 'pub_cond_3', 'new_cond_3']"
   ]
  },
  {
   "cell_type": "code",
   "execution_count": null,
   "metadata": {
    "scrolled": true
   },
   "outputs": [],
   "source": []
  },
  {
   "cell_type": "markdown",
   "metadata": {},
   "source": [
    "## Plot out RV values with published values.\n",
    "Including published precison 2 values."
   ]
  },
  {
   "cell_type": "code",
   "execution_count": null,
   "metadata": {},
   "outputs": [],
   "source": [
    "\n",
    "res_colour = {\"60k\": \"blue\", \"80k\": \"green\", \"100k\": \"red\"}\n",
    "cond_marker = {1: \".\", 2: \"o\",3: \"^\"}\n",
    "band_loc = {\"Z\": 1,\"Y\": 2,\"J\": 3,\"H\": 4,\"K\": 5}\n",
    "conditions = {1: [\"prec_1\"], 2: [\"prec_2\"], 3: [\"prec_3\"]}\n",
    "pub_conds = {1: [\"RV_Cond_1[m/s]\"], 2: [\"RV_Cond_2[m/s]\"], 3: [\"RV_Cond_3[m/s]\"]}\n",
    "vel = 1.0\n",
    "\n",
    "print(\"Dashed lines indicate the published cond_2 values.\")\n",
    "\n",
    "# for b in \"ZYJHK\":\n",
    "for star in [\"M0\", \"M3\", \"M6\", \"M9\"]:\n",
    "    # plt.figure()\n",
    "    for res in [\"60k\", \"80k\", \"100k\"]:\n",
    "        for cond in range(1, 4):\n",
    "            x_vals = [band_loc[b] for b in \"ZYJHK\"]\n",
    "            ids = [\"{0:s}-{1:s}-{2:.1f}-{3}\".format(star, b, vel, res) for b in \"ZYJHK\"]\n",
    "            df_masks = [df_new.Simulation == id for id in ids]\n",
    "            # .iat[0,0] gives the first(only element) in dataframe created by mask of index\n",
    "            pub_rv_vals = [df_pub[pub_conds[cond]][mask].iat[0,0] for mask in df_masks]\n",
    "            plt.plot(x_vals, pub_rv_vals, ls=\"--\", marker=cond_marker[cond], color=res_colour[res])  \n",
    "            \n",
    "            rv_vals = [df_new[conditions[cond]][mask].iat[0,0] for mask in df_masks]\n",
    "            plt.plot(x_vals, rv_vals, marker=cond_marker[cond], color=res_colour[res])\n",
    "            plt.xticks(x_vals, [b for b in \"ZYJHK\"])\n",
    "\n",
    "    plt.ylabel(\"Precision [m/s]\")\n",
    "    plt.title(\"{0} with R_vel = {1} m/s\".format(star, vel))\n",
    "    plt.show()\n"
   ]
  },
  {
   "cell_type": "code",
   "execution_count": null,
   "metadata": {},
   "outputs": [],
   "source": []
  }
 ],
 "metadata": {
  "anaconda-cloud": {},
  "kernelspec": {
   "display_name": "eniric",
   "language": "python",
   "name": "eniric"
  },
  "language_info": {
   "codemirror_mode": {
    "name": "ipython",
    "version": 3
   },
   "file_extension": ".py",
   "mimetype": "text/x-python",
   "name": "python",
   "nbconvert_exporter": "python",
   "pygments_lexer": "ipython3",
   "version": "3.6.5"
  }
 },
 "nbformat": 4,
 "nbformat_minor": 2
}
