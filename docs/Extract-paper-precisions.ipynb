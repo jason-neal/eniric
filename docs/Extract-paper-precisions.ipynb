{
 "cells": [
  {
   "cell_type": "markdown",
   "metadata": {
    "collapsed": true
   },
   "source": [
    "# Extract Precisions with tabular\n",
    "\n",
    "A trail of tabular to extract the RV precision from our previous paper 1511.07468v1.pdf.\n"
   ]
  },
  {
   "cell_type": "code",
   "execution_count": 1,
   "metadata": {
    "collapsed": false
   },
   "outputs": [],
   "source": [
    "from tabula import read_pdf, read_pdf_table\n",
    "import tabula\n",
    "# Tabular needs java 6 or 7! \n",
    "# This is a hack that will not work everywhere. \n",
    "# I included it becasue my system java is version 9.\n",
    "# You will need to point to own loaction of java. \n",
    "# https://stackoverflow.com/questions/31414041/how-to-prepend-a-path-to-sys-path-in-python\n",
    "\n",
    "# May need to manually prepend java location\n",
    "# using export to PATH before launching jupyter\n",
    "import sys\n",
    "b = sys.path\n",
    "sys.path = ['/opt/java/jre1.7.0_79/bin'] + b\n",
    "# print(sys.path)\n",
    "import pandas as pd"
   ]
  },
  {
   "cell_type": "code",
   "execution_count": 2,
   "metadata": {
    "collapsed": true
   },
   "outputs": [],
   "source": [
    "# Specify paper\n",
    "paper = \"/home/jneal/Phd/Codes/eniric/docs/1511.07468v1.pdf\"\n",
    "paper_home = \"/home/jneal/Phd/Codes/eniric2017/docs/1511.07468v1.pdf\"\n",
    "pages = [15, 16, 17]\n"
   ]
  },
  {
   "cell_type": "code",
   "execution_count": 3,
   "metadata": {
    "collapsed": false
   },
   "outputs": [],
   "source": [
    "# Read in the table from the pdf\n",
    "try:\n",
    "    df = read_pdf(paper, pages=pages, guess=True)\n",
    "except:\n",
    "    df = read_pdf(paper_home, pages=pages, guess=True)\n"
   ]
  },
  {
   "cell_type": "code",
   "execution_count": 4,
   "metadata": {
    "collapsed": false
   },
   "outputs": [
    {
     "data": {
      "text/html": [
       "<div>\n",
       "<table border=\"1\" class=\"dataframe\">\n",
       "  <thead>\n",
       "    <tr style=\"text-align: right;\">\n",
       "      <th></th>\n",
       "      <th>Simulation</th>\n",
       "      <th>σRV (Cond. 1)</th>\n",
       "      <th>σRV (Cond. 2)</th>\n",
       "      <th>σRV (Cond. 3)</th>\n",
       "    </tr>\n",
       "  </thead>\n",
       "  <tbody>\n",
       "    <tr>\n",
       "      <th>0</th>\n",
       "      <td>(SpTp - Band - v.sini - R)</td>\n",
       "      <td>[m/s]</td>\n",
       "      <td>[m/s]</td>\n",
       "      <td>[m/s]</td>\n",
       "    </tr>\n",
       "    <tr>\n",
       "      <th>1</th>\n",
       "      <td>M0-Z-1.0-60k</td>\n",
       "      <td>8.9</td>\n",
       "      <td>26.1</td>\n",
       "      <td>9.3</td>\n",
       "    </tr>\n",
       "    <tr>\n",
       "      <th>2</th>\n",
       "      <td>M0-Z-1.0-80k</td>\n",
       "      <td>6.0</td>\n",
       "      <td>17.1</td>\n",
       "      <td>6.2</td>\n",
       "    </tr>\n",
       "    <tr>\n",
       "      <th>3</th>\n",
       "      <td>M0-Z-1.0-100k</td>\n",
       "      <td>4.5</td>\n",
       "      <td>12.8</td>\n",
       "      <td>4.6</td>\n",
       "    </tr>\n",
       "    <tr>\n",
       "      <th>4</th>\n",
       "      <td>M0-Z-5.0-60k</td>\n",
       "      <td>13.6</td>\n",
       "      <td>38.9</td>\n",
       "      <td>14.0</td>\n",
       "    </tr>\n",
       "  </tbody>\n",
       "</table>\n",
       "</div>"
      ],
      "text/plain": [
       "                   Simulation σRV (Cond. 1) σRV (Cond. 2) σRV (Cond. 3)\n",
       "0  (SpTp - Band - v.sini - R)         [m/s]         [m/s]         [m/s]\n",
       "1                M0-Z-1.0-60k           8.9          26.1           9.3\n",
       "2                M0-Z-1.0-80k           6.0          17.1           6.2\n",
       "3               M0-Z-1.0-100k           4.5          12.8           4.6\n",
       "4                M0-Z-5.0-60k          13.6          38.9          14.0"
      ]
     },
     "execution_count": 4,
     "metadata": {},
     "output_type": "execute_result"
    }
   ],
   "source": [
    "# There is an extra line of headings which need removed.\n",
    "# There is also a couple more futher in the data from \n",
    "# the top of each table as it spans 3 pages.\n",
    "df.head()"
   ]
  },
  {
   "cell_type": "code",
   "execution_count": 5,
   "metadata": {
    "collapsed": false
   },
   "outputs": [
    {
     "data": {
      "text/html": [
       "<div>\n",
       "<table border=\"1\" class=\"dataframe\">\n",
       "  <thead>\n",
       "    <tr style=\"text-align: right;\">\n",
       "      <th></th>\n",
       "      <th>Simulation</th>\n",
       "      <th>σRV (Cond. 1)</th>\n",
       "      <th>σRV (Cond. 2)</th>\n",
       "      <th>σRV (Cond. 3)</th>\n",
       "    </tr>\n",
       "  </thead>\n",
       "  <tbody>\n",
       "    <tr>\n",
       "      <th>1</th>\n",
       "      <td>M0-Z-1.0-60k</td>\n",
       "      <td>8.9</td>\n",
       "      <td>26.1</td>\n",
       "      <td>9.3</td>\n",
       "    </tr>\n",
       "    <tr>\n",
       "      <th>2</th>\n",
       "      <td>M0-Z-1.0-80k</td>\n",
       "      <td>6.0</td>\n",
       "      <td>17.1</td>\n",
       "      <td>6.2</td>\n",
       "    </tr>\n",
       "    <tr>\n",
       "      <th>3</th>\n",
       "      <td>M0-Z-1.0-100k</td>\n",
       "      <td>4.5</td>\n",
       "      <td>12.8</td>\n",
       "      <td>4.6</td>\n",
       "    </tr>\n",
       "    <tr>\n",
       "      <th>4</th>\n",
       "      <td>M0-Z-5.0-60k</td>\n",
       "      <td>13.6</td>\n",
       "      <td>38.9</td>\n",
       "      <td>14.0</td>\n",
       "    </tr>\n",
       "    <tr>\n",
       "      <th>5</th>\n",
       "      <td>M0-Z-5.0-80k</td>\n",
       "      <td>10.6</td>\n",
       "      <td>30.5</td>\n",
       "      <td>10.9</td>\n",
       "    </tr>\n",
       "  </tbody>\n",
       "</table>\n",
       "</div>"
      ],
      "text/plain": [
       "      Simulation σRV (Cond. 1) σRV (Cond. 2) σRV (Cond. 3)\n",
       "1   M0-Z-1.0-60k           8.9          26.1           9.3\n",
       "2   M0-Z-1.0-80k           6.0          17.1           6.2\n",
       "3  M0-Z-1.0-100k           4.5          12.8           4.6\n",
       "4   M0-Z-5.0-60k          13.6          38.9          14.0\n",
       "5   M0-Z-5.0-80k          10.6          30.5          10.9"
      ]
     },
     "execution_count": 5,
     "metadata": {},
     "output_type": "execute_result"
    }
   ],
   "source": [
    "# Remove mistakenly added title rows\n",
    "# Easily done beacuse they do not start with \"M\"\n",
    "df = df[df.Simulation.str.startswith(\"M\")]\n",
    "df.head()"
   ]
  },
  {
   "cell_type": "code",
   "execution_count": 6,
   "metadata": {
    "collapsed": false
   },
   "outputs": [
    {
     "name": "stdout",
     "output_type": "stream",
     "text": [
      "Index(['Simulation', 'σRV (Cond. 1)', 'σRV (Cond. 2)', 'σRV (Cond. 3)'], dtype='object')\n"
     ]
    },
    {
     "data": {
      "text/plain": [
       "Index(['Simulation', 'RV_Cond_1', 'RV_Cond_2', 'RV_Cond_3'], dtype='object')"
      ]
     },
     "execution_count": 6,
     "metadata": {},
     "output_type": "execute_result"
    }
   ],
   "source": [
    "# Format the column names\n",
    "print(df.columns)\n",
    "df.columns = df.columns.str.replace(' ', '_')\n",
    "df.columns = df.columns.str.replace('σ', '')\n",
    "df.columns = df.columns.str.replace('(', '')\n",
    "df.columns = df.columns.str.replace(')', '')\n",
    "df.columns = df.columns.str.replace('.', '')\n",
    "df.columns"
   ]
  },
  {
   "cell_type": "code",
   "execution_count": 7,
   "metadata": {
    "collapsed": false
   },
   "outputs": [
    {
     "name": "stdout",
     "output_type": "stream",
     "text": [
      "Before:\n",
      " Simulation    object\n",
      "RV_Cond_1     object\n",
      "RV_Cond_2     object\n",
      "RV_Cond_3     object\n",
      "dtype: object\n",
      "\n",
      "After:\n",
      " Simulation     object\n",
      "RV_Cond_1     float64\n",
      "RV_Cond_2     float64\n",
      "RV_Cond_3     float64\n",
      "dtype: object\n"
     ]
    }
   ],
   "source": [
    "# Turing RV precision values to floats\n",
    "print(\"Before:\\n\", df.dtypes)\n",
    "\n",
    "df[\"RV_Cond_1\"] = df.RV_Cond_1.astype(float)\n",
    "df[\"RV_Cond_2\"] = df.RV_Cond_2.astype(float)\n",
    "df[\"RV_Cond_3\"] = df.RV_Cond_3.astype(float)\n",
    "\n",
    "print(\"\\nAfter:\\n\", df.dtypes)"
   ]
  },
  {
   "cell_type": "code",
   "execution_count": 8,
   "metadata": {
    "collapsed": false
   },
   "outputs": [
    {
     "data": {
      "text/plain": [
       "['Simulation', 'RV_Cond_1[m/s]', 'RV_Cond_2[m/s]', 'RV_Cond_3[m/s]']"
      ]
     },
     "execution_count": 8,
     "metadata": {},
     "output_type": "execute_result"
    }
   ],
   "source": [
    "# Add units to headers to save\n",
    "hdr = df.columns\n",
    "new_header = [hdr[0], hdr[1]+\"[m/s]\", hdr[2]+\"[m/s]\", hdr[3]+\"[m/s]\"]   # Adjust header to save results\n",
    "new_header"
   ]
  },
  {
   "cell_type": "code",
   "execution_count": 9,
   "metadata": {
    "collapsed": true
   },
   "outputs": [],
   "source": [
    "# Save Results to file\n",
    "f = \"../data/precision_data_paper2015.txt\"\n",
    "\n",
    "df.to_csv(f, mode='w', sep=\"\\t\", float_format=\"%6.2f\", header=new_header, index=False)\n"
   ]
  },
  {
   "cell_type": "code",
   "execution_count": null,
   "metadata": {
    "collapsed": true
   },
   "outputs": [],
   "source": []
  }
 ],
 "metadata": {
  "anaconda-cloud": {},
  "kernelspec": {
   "display_name": "Python 3",
   "language": "python",
   "name": "python3"
  },
  "language_info": {
   "codemirror_mode": {
    "name": "ipython",
    "version": 3
   },
   "file_extension": ".py",
   "mimetype": "text/x-python",
   "name": "python",
   "nbconvert_exporter": "python",
   "pygments_lexer": "ipython3",
   "version": "3.5.2"
  }
 },
 "nbformat": 4,
 "nbformat_minor": 2
}
